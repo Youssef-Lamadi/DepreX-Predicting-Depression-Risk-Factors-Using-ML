{
 "cells": [
  {
   "cell_type": "code",
   "execution_count": 54,
   "id": "c7d355a6-c638-42fb-b11b-13b439fef767",
   "metadata": {},
   "outputs": [],
   "source": [
    "import gspread\n",
    "from google.oauth2.service_account import Credentials\n",
    "import pandas as pd\n",
    "import numpy as np\n",
    "\n",
    "pd.set_option('display.max_columns', None)"
   ]
  },
  {
   "cell_type": "code",
   "execution_count": 55,
   "id": "10fa74a9-2ed1-43e2-974c-8f6421775e15",
   "metadata": {},
   "outputs": [],
   "source": [
    "# Step 1: Authenticate and connect to the Google Sheets API\n",
    "SCOPES = [\"https://spreadsheets.google.com/feeds\", \"https://www.googleapis.com/auth/drive\"]\n",
    "credentials = Credentials.from_service_account_file(\"credentials.json\", scopes=SCOPES)\n",
    "client = gspread.authorize(credentials)"
   ]
  },
  {
   "cell_type": "code",
   "execution_count": 56,
   "id": "f3ca163d-05f6-41aa-9d41-6c09de9410a8",
   "metadata": {},
   "outputs": [],
   "source": [
    "# Step 2: Open the Google Sheet by name or URL\n",
    "spreadsheet = client.open(\"Mental Health and Lifestyle Survey  (Responses)\")\n",
    "worksheet = spreadsheet.sheet1  # Access the first sheet \n"
   ]
  },
  {
   "cell_type": "code",
   "execution_count": 57,
   "id": "826e3f16-d1ea-43db-a1ea-7db900757fb9",
   "metadata": {},
   "outputs": [],
   "source": [
    "# Step 3: Extract all records\n",
    "data = worksheet.get_all_records()"
   ]
  },
  {
   "cell_type": "code",
   "execution_count": 58,
   "id": "cba40ad3-4356-49ea-a415-9053ed155923",
   "metadata": {},
   "outputs": [],
   "source": [
    "# Step 4: Convert to a Pandas DataFrame\n",
    "df = pd.DataFrame(data)"
   ]
  },
  {
   "cell_type": "code",
   "execution_count": 59,
   "id": "ca9adea3-f982-45a2-857b-78960be043ca",
   "metadata": {},
   "outputs": [
    {
     "data": {
      "text/plain": [
       "(121, 29)"
      ]
     },
     "execution_count": 59,
     "metadata": {},
     "output_type": "execute_result"
    }
   ],
   "source": [
    "df.shape"
   ]
  },
  {
   "cell_type": "code",
   "execution_count": 60,
   "id": "6075ee8f-40cf-4612-a155-76c78095368a",
   "metadata": {},
   "outputs": [
    {
     "data": {
      "text/html": [
       "<div>\n",
       "<style scoped>\n",
       "    .dataframe tbody tr th:only-of-type {\n",
       "        vertical-align: middle;\n",
       "    }\n",
       "\n",
       "    .dataframe tbody tr th {\n",
       "        vertical-align: top;\n",
       "    }\n",
       "\n",
       "    .dataframe thead th {\n",
       "        text-align: right;\n",
       "    }\n",
       "</style>\n",
       "<table border=\"1\" class=\"dataframe\">\n",
       "  <thead>\n",
       "    <tr style=\"text-align: right;\">\n",
       "      <th></th>\n",
       "      <th>Timestamp</th>\n",
       "      <th>Gender  الجنس</th>\n",
       "      <th>Age  العمر</th>\n",
       "      <th>City  المدينة</th>\n",
       "      <th>Marital Status  الحالة الاجتماعية</th>\n",
       "      <th>Do you consider yourself a religious person?\\nهل تعتبر نفسك شخصًا متدينًا؟</th>\n",
       "      <th>Do you live with your family?\\nهل تعيش مع عائلتك؟</th>\n",
       "      <th>Are you satisfied with your living environment?\\nهل أنت راضٍ عن بيئة سكنك؟</th>\n",
       "      <th>Average Sleep Duration  \\nمتوسط مدة النوم</th>\n",
       "      <th>Do you usually sleep at night or during the day? (Some people prefer to work or study at night and sleep during the day)  \\nهل عادةً ما تنام في الليل أم خلال النهار؟ (بعض الناس يفضلون العمل أو الدراسة في الليل والنوم خلال النهار)</th>\n",
       "      <th>Are you currently a working professional or a student?\\nهل أنت حالياً عامل أم طالب؟</th>\n",
       "      <th>If working, what is your profession? \\nإذا كنت تعمل، ما هي مهنتك؟</th>\n",
       "      <th>How would you rate the level of pressure you feel from your academic/work responsibilities?\\nكيف تقيم مستوى الضغط الذي تشعر به من مسؤولياتك الأكاديمية/العملية؟</th>\n",
       "      <th>If you are student,  what is your current Grade Point Average (CGPA) or academic performance score?\\nما هو متوسط درجاتك أو معدل الأداء الأكاديمي الحالي؟</th>\n",
       "      <th>How would you rate your satisfaction with your current academic studies and/or work situation?\\nكيف تقيم مستوى رضاك عن دراستك الأكاديمية الحالية و/أو وضعك العملي؟</th>\n",
       "      <th>How many hours do you spend on studying/work each day?\\nكم عدد الساعات التي تقضيها في الدراسة/العمل يومياً؟</th>\n",
       "      <th>How would you rate your current level of financial stress?\\nكيف تقيم مستوى الضغط المالي الذي تشعر به حالياً؟</th>\n",
       "      <th>What is your highest level of education or current academic degree?\\nما هو أعلى مستوى تعليمي لك أو الدرجة الأكاديمية الحالية التي تدرسها؟</th>\n",
       "      <th>How would you describe your typical eating habits?\\nكيف تصف عاداتك الغذائية المعتادة؟</th>\n",
       "      <th>How often do you engage in physical activity (exercise, sports, or any form of workout)?\\nكم مرة تمارس النشاط البدني (التمارين الرياضية، أو أي شكل من أشكال التمرين) ؟</th>\n",
       "      <th>Do you smoke?\\nهل تدخن؟</th>\n",
       "      <th>Do you consume alcohol?\\nهل تتناول الكحول؟</th>\n",
       "      <th>Have you ever had suicidal thoughts?  \\nهل سبق وأن فكرت في الانتحار؟</th>\n",
       "      <th>Do you have a family history of mental illness?</th>\n",
       "      <th>Are you currently experiencing any form of depression?  \\nهل تعاني حالياً من أي نوع من الاكتئاب أو الحزن الشديد؟</th>\n",
       "      <th>On average, how many hours do you spend on social media each day?  \\n  في المتوسط، كم ساعة تقضيها يوميًا على وسائل التواصل الاجتماعي؟</th>\n",
       "      <th>How would you rate your satisfaction with your body image or physical appearance?  \\n  كيف تقيم مستوى رضاك عن صورتك الجسدية أو مظهرك الخارجي؟</th>\n",
       "      <th>Do you often compare yourself to others in a way that makes you feel worse about yourself? \\nهل تقارن نفسك بالآخرين بطريقة تجعلك تشعر بالسوء تجاه نفسك؟</th>\n",
       "      <th>How often do you feel lonely, even when around other people? \\nكم مرة تشعر بالوحدة حتى عندما تكون محاطاً بالآخرين؟</th>\n",
       "    </tr>\n",
       "  </thead>\n",
       "  <tbody>\n",
       "    <tr>\n",
       "      <th>0</th>\n",
       "      <td>11/13/2024 19:06:28</td>\n",
       "      <td>Male</td>\n",
       "      <td>20</td>\n",
       "      <td>Al hociema</td>\n",
       "      <td>Single</td>\n",
       "      <td>yes</td>\n",
       "      <td>no</td>\n",
       "      <td>yes</td>\n",
       "      <td>More than 8 hours</td>\n",
       "      <td>At night</td>\n",
       "      <td>Student</td>\n",
       "      <td></td>\n",
       "      <td>4</td>\n",
       "      <td>7</td>\n",
       "      <td>4</td>\n",
       "      <td>11 hours</td>\n",
       "      <td>Moderate financial stress</td>\n",
       "      <td>Master’s Degree</td>\n",
       "      <td>Moderate (eating a mix of healthy and unhealth...</td>\n",
       "      <td>Sometimes – I engage in physical activity occa...</td>\n",
       "      <td>no</td>\n",
       "      <td>no</td>\n",
       "      <td>No</td>\n",
       "      <td>yes</td>\n",
       "      <td>No</td>\n",
       "      <td>Less than 1 hour</td>\n",
       "      <td>5</td>\n",
       "      <td>No</td>\n",
       "      <td>Never</td>\n",
       "    </tr>\n",
       "    <tr>\n",
       "      <th>1</th>\n",
       "      <td>11/13/2024 21:15:28</td>\n",
       "      <td>Male</td>\n",
       "      <td>23</td>\n",
       "      <td>Rabat</td>\n",
       "      <td>Single</td>\n",
       "      <td>yes</td>\n",
       "      <td>no</td>\n",
       "      <td>yes</td>\n",
       "      <td>5-6 hours</td>\n",
       "      <td>At night</td>\n",
       "      <td>Student</td>\n",
       "      <td></td>\n",
       "      <td>3</td>\n",
       "      <td>8</td>\n",
       "      <td>4</td>\n",
       "      <td>5 hours</td>\n",
       "      <td>High financial stress</td>\n",
       "      <td>Bachelor’s Degree</td>\n",
       "      <td>Healthy (e.g., eating fruits, vegetables, and ...</td>\n",
       "      <td>Regularly – I engage in physical activity on a...</td>\n",
       "      <td>no</td>\n",
       "      <td>no</td>\n",
       "      <td>No</td>\n",
       "      <td>no</td>\n",
       "      <td>No</td>\n",
       "      <td>1-2 hours</td>\n",
       "      <td>2</td>\n",
       "      <td>Yes</td>\n",
       "      <td>Sometimes</td>\n",
       "    </tr>\n",
       "    <tr>\n",
       "      <th>2</th>\n",
       "      <td>11/13/2024 21:35:30</td>\n",
       "      <td>Male</td>\n",
       "      <td>22</td>\n",
       "      <td>moroco</td>\n",
       "      <td>Single</td>\n",
       "      <td>yes</td>\n",
       "      <td>yes</td>\n",
       "      <td>no</td>\n",
       "      <td>5-6 hours</td>\n",
       "      <td>At night</td>\n",
       "      <td>Working Professional</td>\n",
       "      <td>m</td>\n",
       "      <td>3</td>\n",
       "      <td>7</td>\n",
       "      <td>2</td>\n",
       "      <td>3 hours</td>\n",
       "      <td>High financial stress</td>\n",
       "      <td>Doctorate (Ph.D.)</td>\n",
       "      <td>Moderate (eating a mix of healthy and unhealth...</td>\n",
       "      <td>Sometimes – I engage in physical activity occa...</td>\n",
       "      <td>yes</td>\n",
       "      <td>no</td>\n",
       "      <td>No</td>\n",
       "      <td>no</td>\n",
       "      <td>No</td>\n",
       "      <td>1-2 hours</td>\n",
       "      <td>4</td>\n",
       "      <td>No</td>\n",
       "      <td>Never</td>\n",
       "    </tr>\n",
       "    <tr>\n",
       "      <th>3</th>\n",
       "      <td>11/13/2024 21:57:18</td>\n",
       "      <td>Male</td>\n",
       "      <td>18</td>\n",
       "      <td>Alger</td>\n",
       "      <td>Single</td>\n",
       "      <td>yes</td>\n",
       "      <td>yes</td>\n",
       "      <td>no</td>\n",
       "      <td>5-6 hours</td>\n",
       "      <td>At night</td>\n",
       "      <td>Working Professional</td>\n",
       "      <td>E commerce</td>\n",
       "      <td>3</td>\n",
       "      <td>7</td>\n",
       "      <td>4</td>\n",
       "      <td>6 hours</td>\n",
       "      <td>No financial stress</td>\n",
       "      <td>High School</td>\n",
       "      <td>Moderate (eating a mix of healthy and unhealth...</td>\n",
       "      <td>Never – I do not engage in any physical activity.</td>\n",
       "      <td>no</td>\n",
       "      <td>no</td>\n",
       "      <td>No</td>\n",
       "      <td>yes</td>\n",
       "      <td>No</td>\n",
       "      <td>2-4 hours</td>\n",
       "      <td>3</td>\n",
       "      <td>Yes</td>\n",
       "      <td>Sometimes</td>\n",
       "    </tr>\n",
       "    <tr>\n",
       "      <th>4</th>\n",
       "      <td>11/13/2024 22:14:22</td>\n",
       "      <td>Male</td>\n",
       "      <td>17</td>\n",
       "      <td>Fes</td>\n",
       "      <td>Single</td>\n",
       "      <td>yes</td>\n",
       "      <td>yes</td>\n",
       "      <td>no</td>\n",
       "      <td>Less than 5 hours</td>\n",
       "      <td>At night</td>\n",
       "      <td>Student</td>\n",
       "      <td></td>\n",
       "      <td>2</td>\n",
       "      <td>6</td>\n",
       "      <td>2</td>\n",
       "      <td>6 hours</td>\n",
       "      <td>High financial stress</td>\n",
       "      <td>High School</td>\n",
       "      <td>Unhealthy (e.g., eating junk food, sugary snacks)</td>\n",
       "      <td>Never – I do not engage in any physical activity.</td>\n",
       "      <td>no</td>\n",
       "      <td>no</td>\n",
       "      <td>No</td>\n",
       "      <td>no</td>\n",
       "      <td>No</td>\n",
       "      <td>1-2 hours</td>\n",
       "      <td>4</td>\n",
       "      <td>No</td>\n",
       "      <td>Sometimes</td>\n",
       "    </tr>\n",
       "  </tbody>\n",
       "</table>\n",
       "</div>"
      ],
      "text/plain": [
       "             Timestamp Gender  الجنس  Age  العمر City  المدينة  \\\n",
       "0  11/13/2024 19:06:28          Male          20    Al hociema   \n",
       "1  11/13/2024 21:15:28          Male          23         Rabat   \n",
       "2  11/13/2024 21:35:30          Male          22        moroco   \n",
       "3  11/13/2024 21:57:18          Male          18        Alger    \n",
       "4  11/13/2024 22:14:22          Male          17           Fes   \n",
       "\n",
       "  Marital Status  الحالة الاجتماعية  \\\n",
       "0                            Single   \n",
       "1                            Single   \n",
       "2                            Single   \n",
       "3                            Single   \n",
       "4                            Single   \n",
       "\n",
       "  Do you consider yourself a religious person?\\nهل تعتبر نفسك شخصًا متدينًا؟  \\\n",
       "0                                                yes                           \n",
       "1                                                yes                           \n",
       "2                                                yes                           \n",
       "3                                                yes                           \n",
       "4                                                yes                           \n",
       "\n",
       "  Do you live with your family?\\nهل تعيش مع عائلتك؟  \\\n",
       "0                                                no   \n",
       "1                                                no   \n",
       "2                                               yes   \n",
       "3                                               yes   \n",
       "4                                               yes   \n",
       "\n",
       "  Are you satisfied with your living environment?\\nهل أنت راضٍ عن بيئة سكنك؟  \\\n",
       "0                                                yes                           \n",
       "1                                                yes                           \n",
       "2                                                 no                           \n",
       "3                                                 no                           \n",
       "4                                                 no                           \n",
       "\n",
       "    Average Sleep Duration  \\nمتوسط مدة النوم  \\\n",
       "0                           More than 8 hours   \n",
       "1                                   5-6 hours   \n",
       "2                                   5-6 hours   \n",
       "3                                   5-6 hours   \n",
       "4                           Less than 5 hours   \n",
       "\n",
       "  Do you usually sleep at night or during the day? (Some people prefer to work or study at night and sleep during the day)  \\nهل عادةً ما تنام في الليل أم خلال النهار؟ (بعض الناس يفضلون العمل أو الدراسة في الليل والنوم خلال النهار)  \\\n",
       "0                                           At night                                                                                                                                                                                      \n",
       "1                                           At night                                                                                                                                                                                      \n",
       "2                                           At night                                                                                                                                                                                      \n",
       "3                                           At night                                                                                                                                                                                      \n",
       "4                                           At night                                                                                                                                                                                      \n",
       "\n",
       "  Are you currently a working professional or a student?\\nهل أنت حالياً عامل أم طالب؟  \\\n",
       "0                                            Student                                    \n",
       "1                                            Student                                    \n",
       "2                               Working Professional                                    \n",
       "3                               Working Professional                                    \n",
       "4                                            Student                                    \n",
       "\n",
       "  If working, what is your profession? \\nإذا كنت تعمل، ما هي مهنتك؟  \\\n",
       "0                                                                     \n",
       "1                                                                     \n",
       "2                                                  m                  \n",
       "3                                        E commerce                   \n",
       "4                                                                     \n",
       "\n",
       "   How would you rate the level of pressure you feel from your academic/work responsibilities?\\nكيف تقيم مستوى الضغط الذي تشعر به من مسؤولياتك الأكاديمية/العملية؟  \\\n",
       "0                                                  4                                                                                                                 \n",
       "1                                                  3                                                                                                                 \n",
       "2                                                  3                                                                                                                 \n",
       "3                                                  3                                                                                                                 \n",
       "4                                                  2                                                                                                                 \n",
       "\n",
       "  If you are student,  what is your current Grade Point Average (CGPA) or academic performance score?\\nما هو متوسط درجاتك أو معدل الأداء الأكاديمي الحالي؟  \\\n",
       "0                                                  7                                                                                                         \n",
       "1                                                  8                                                                                                         \n",
       "2                                                  7                                                                                                         \n",
       "3                                                  7                                                                                                         \n",
       "4                                                  6                                                                                                         \n",
       "\n",
       "   How would you rate your satisfaction with your current academic studies and/or work situation?\\nكيف تقيم مستوى رضاك عن دراستك الأكاديمية الحالية و/أو وضعك العملي؟  \\\n",
       "0                                                  4                                                                                                                    \n",
       "1                                                  4                                                                                                                    \n",
       "2                                                  2                                                                                                                    \n",
       "3                                                  4                                                                                                                    \n",
       "4                                                  2                                                                                                                    \n",
       "\n",
       "  How many hours do you spend on studying/work each day?\\nكم عدد الساعات التي تقضيها في الدراسة/العمل يومياً؟  \\\n",
       "0                                           11 hours                                                            \n",
       "1                                            5 hours                                                            \n",
       "2                                            3 hours                                                            \n",
       "3                                            6 hours                                                            \n",
       "4                                            6 hours                                                            \n",
       "\n",
       "  How would you rate your current level of financial stress?\\nكيف تقيم مستوى الضغط المالي الذي تشعر به حالياً؟  \\\n",
       "0                          Moderate financial stress                                                             \n",
       "1                              High financial stress                                                             \n",
       "2                              High financial stress                                                             \n",
       "3                                No financial stress                                                             \n",
       "4                              High financial stress                                                             \n",
       "\n",
       "  What is your highest level of education or current academic degree?\\nما هو أعلى مستوى تعليمي لك أو الدرجة الأكاديمية الحالية التي تدرسها؟  \\\n",
       "0                                    Master’s Degree                                                                                          \n",
       "1                                  Bachelor’s Degree                                                                                          \n",
       "2                                  Doctorate (Ph.D.)                                                                                          \n",
       "3                                        High School                                                                                          \n",
       "4                                        High School                                                                                          \n",
       "\n",
       "  How would you describe your typical eating habits?\\nكيف تصف عاداتك الغذائية المعتادة؟  \\\n",
       "0  Moderate (eating a mix of healthy and unhealth...                                      \n",
       "1  Healthy (e.g., eating fruits, vegetables, and ...                                      \n",
       "2  Moderate (eating a mix of healthy and unhealth...                                      \n",
       "3  Moderate (eating a mix of healthy and unhealth...                                      \n",
       "4  Unhealthy (e.g., eating junk food, sugary snacks)                                      \n",
       "\n",
       "  How often do you engage in physical activity (exercise, sports, or any form of workout)?\\nكم مرة تمارس النشاط البدني (التمارين الرياضية، أو أي شكل من أشكال التمرين) ؟  \\\n",
       "0  Sometimes – I engage in physical activity occa...                                                                                                                       \n",
       "1  Regularly – I engage in physical activity on a...                                                                                                                       \n",
       "2  Sometimes – I engage in physical activity occa...                                                                                                                       \n",
       "3  Never – I do not engage in any physical activity.                                                                                                                       \n",
       "4  Never – I do not engage in any physical activity.                                                                                                                       \n",
       "\n",
       "  Do you smoke?\\nهل تدخن؟ Do you consume alcohol?\\nهل تتناول الكحول؟  \\\n",
       "0                      no                                         no   \n",
       "1                      no                                         no   \n",
       "2                     yes                                         no   \n",
       "3                      no                                         no   \n",
       "4                      no                                         no   \n",
       "\n",
       "    Have you ever had suicidal thoughts?  \\nهل سبق وأن فكرت في الانتحار؟  \\\n",
       "0                                                 No                       \n",
       "1                                                 No                       \n",
       "2                                                 No                       \n",
       "3                                                 No                       \n",
       "4                                                 No                       \n",
       "\n",
       "  Do you have a family history of mental illness?  \\\n",
       "0                                             yes   \n",
       "1                                              no   \n",
       "2                                              no   \n",
       "3                                             yes   \n",
       "4                                              no   \n",
       "\n",
       "    Are you currently experiencing any form of depression?  \\nهل تعاني حالياً من أي نوع من الاكتئاب أو الحزن الشديد؟  \\\n",
       "0                                                 No                                                                   \n",
       "1                                                 No                                                                   \n",
       "2                                                 No                                                                   \n",
       "3                                                 No                                                                   \n",
       "4                                                 No                                                                   \n",
       "\n",
       "  On average, how many hours do you spend on social media each day?  \\n  في المتوسط، كم ساعة تقضيها يوميًا على وسائل التواصل الاجتماعي؟    \\\n",
       "0                                   Less than 1 hour                                                                                        \n",
       "1                                          1-2 hours                                                                                        \n",
       "2                                          1-2 hours                                                                                        \n",
       "3                                          2-4 hours                                                                                        \n",
       "4                                          1-2 hours                                                                                        \n",
       "\n",
       "   How would you rate your satisfaction with your body image or physical appearance?  \\n  كيف تقيم مستوى رضاك عن صورتك الجسدية أو مظهرك الخارجي؟    \\\n",
       "0                                                  5                                                                                                 \n",
       "1                                                  2                                                                                                 \n",
       "2                                                  4                                                                                                 \n",
       "3                                                  3                                                                                                 \n",
       "4                                                  4                                                                                                 \n",
       "\n",
       "  Do you often compare yourself to others in a way that makes you feel worse about yourself? \\nهل تقارن نفسك بالآخرين بطريقة تجعلك تشعر بالسوء تجاه نفسك؟  \\\n",
       "0                                                 No                                                                                                        \n",
       "1                                                Yes                                                                                                        \n",
       "2                                                 No                                                                                                        \n",
       "3                                                Yes                                                                                                        \n",
       "4                                                 No                                                                                                        \n",
       "\n",
       "  How often do you feel lonely, even when around other people? \\nكم مرة تشعر بالوحدة حتى عندما تكون محاطاً بالآخرين؟    \n",
       "0                                              Never                                                                    \n",
       "1                                          Sometimes                                                                    \n",
       "2                                              Never                                                                    \n",
       "3                                          Sometimes                                                                    \n",
       "4                                          Sometimes                                                                    "
      ]
     },
     "execution_count": 60,
     "metadata": {},
     "output_type": "execute_result"
    }
   ],
   "source": [
    "df.head()"
   ]
  },
  {
   "cell_type": "code",
   "execution_count": 61,
   "id": "304581ef-800d-4339-a929-4685231a094b",
   "metadata": {},
   "outputs": [
    {
     "data": {
      "text/plain": [
       "Index(['Timestamp', 'Gender  الجنس', 'Age  العمر', 'City  المدينة',\n",
       "       'Marital Status  الحالة الاجتماعية',\n",
       "       'Do you consider yourself a religious person?\\nهل تعتبر نفسك شخصًا متدينًا؟',\n",
       "       'Do you live with your family?\\nهل تعيش مع عائلتك؟',\n",
       "       'Are you satisfied with your living environment?\\nهل أنت راضٍ عن بيئة سكنك؟',\n",
       "       '  Average Sleep Duration  \\nمتوسط مدة النوم',\n",
       "       'Do you usually sleep at night or during the day? (Some people prefer to work or study at night and sleep during the day)  \\nهل عادةً ما تنام في الليل أم خلال النهار؟ (بعض الناس يفضلون العمل أو الدراسة في الليل والنوم خلال النهار)',\n",
       "       'Are you currently a working professional or a student?\\nهل أنت حالياً عامل أم طالب؟',\n",
       "       'If working, what is your profession? \\nإذا كنت تعمل، ما هي مهنتك؟',\n",
       "       'How would you rate the level of pressure you feel from your academic/work responsibilities?\\nكيف تقيم مستوى الضغط الذي تشعر به من مسؤولياتك الأكاديمية/العملية؟',\n",
       "       'If you are student,  what is your current Grade Point Average (CGPA) or academic performance score?\\nما هو متوسط درجاتك أو معدل الأداء الأكاديمي الحالي؟',\n",
       "       'How would you rate your satisfaction with your current academic studies and/or work situation?\\nكيف تقيم مستوى رضاك عن دراستك الأكاديمية الحالية و/أو وضعك العملي؟',\n",
       "       'How many hours do you spend on studying/work each day?\\nكم عدد الساعات التي تقضيها في الدراسة/العمل يومياً؟',\n",
       "       'How would you rate your current level of financial stress?\\nكيف تقيم مستوى الضغط المالي الذي تشعر به حالياً؟',\n",
       "       'What is your highest level of education or current academic degree?\\nما هو أعلى مستوى تعليمي لك أو الدرجة الأكاديمية الحالية التي تدرسها؟',\n",
       "       'How would you describe your typical eating habits?\\nكيف تصف عاداتك الغذائية المعتادة؟',\n",
       "       'How often do you engage in physical activity (exercise, sports, or any form of workout)?\\nكم مرة تمارس النشاط البدني (التمارين الرياضية، أو أي شكل من أشكال التمرين) ؟',\n",
       "       'Do you smoke?\\nهل تدخن؟', 'Do you consume alcohol?\\nهل تتناول الكحول؟',\n",
       "       '  Have you ever had suicidal thoughts?  \\nهل سبق وأن فكرت في الانتحار؟',\n",
       "       'Do you have a family history of mental illness?',\n",
       "       '  Are you currently experiencing any form of depression?  \\nهل تعاني حالياً من أي نوع من الاكتئاب أو الحزن الشديد؟',\n",
       "       'On average, how many hours do you spend on social media each day?  \\n  في المتوسط، كم ساعة تقضيها يوميًا على وسائل التواصل الاجتماعي؟  ',\n",
       "       'How would you rate your satisfaction with your body image or physical appearance?  \\n  كيف تقيم مستوى رضاك عن صورتك الجسدية أو مظهرك الخارجي؟  ',\n",
       "       'Do you often compare yourself to others in a way that makes you feel worse about yourself? \\nهل تقارن نفسك بالآخرين بطريقة تجعلك تشعر بالسوء تجاه نفسك؟',\n",
       "       'How often do you feel lonely, even when around other people? \\nكم مرة تشعر بالوحدة حتى عندما تكون محاطاً بالآخرين؟  '],\n",
       "      dtype='object')"
      ]
     },
     "execution_count": 61,
     "metadata": {},
     "output_type": "execute_result"
    }
   ],
   "source": [
    "df.columns"
   ]
  },
  {
   "cell_type": "markdown",
   "id": "df59d735-06ba-4c89-8350-8bc4d128ae02",
   "metadata": {},
   "source": [
    "## Change the name of columns"
   ]
  },
  {
   "cell_type": "code",
   "execution_count": 62,
   "id": "b9077eaa-3d26-4dc1-aed4-46234ebde43e",
   "metadata": {},
   "outputs": [
    {
     "name": "stdout",
     "output_type": "stream",
     "text": [
      "Index(['Timestamp', 'Gender', 'Age', 'City', 'Marital Status',\n",
      "       'Religious Person', 'Living with Family',\n",
      "       'Living Environment Satisfaction', 'Sleep Duration',\n",
      "       'Night/Day Sleep Preference', 'Working Professional or Student',\n",
      "       'Profession', 'Academic/Work Pressure', 'CGPA',\n",
      "       'Study/Job Satisfaction', 'Work/Study Hours', 'Financial Stress',\n",
      "       'Study Degree', 'Dietary Habits', 'Physical Activity Frequency',\n",
      "       'Smoking', 'Alcohol Consumption', 'Suicidal Thoughts',\n",
      "       'Family Mental Illness History', 'Depression',\n",
      "       'Social Media Usage Hours', 'Body Image Satisfaction',\n",
      "       'Self-Comparison', 'Loneliness Frequency'],\n",
      "      dtype='object')\n"
     ]
    }
   ],
   "source": [
    "df.columns = [\n",
    "    'Timestamp',  \n",
    "    'Gender', \n",
    "    'Age', \n",
    "    'City', \n",
    "    'Marital Status', \n",
    "    'Religious Person', \n",
    "    'Living with Family', \n",
    "    'Living Environment Satisfaction', \n",
    "    'Sleep Duration', \n",
    "    'Night/Day Sleep Preference', \n",
    "    'Working Professional or Student', \n",
    "    'Profession', \n",
    "    'Academic/Work Pressure', \n",
    "    'CGPA', \n",
    "    'Study/Job Satisfaction', \n",
    "    'Work/Study Hours', \n",
    "    'Financial Stress', \n",
    "    'Study Degree', \n",
    "    'Dietary Habits', \n",
    "    'Physical Activity Frequency', \n",
    "    'Smoking', \n",
    "    'Alcohol Consumption', \n",
    "    'Suicidal Thoughts', \n",
    "    'Family Mental Illness History', \n",
    "    'Depression', \n",
    "    'Social Media Usage Hours', \n",
    "    'Body Image Satisfaction', \n",
    "    'Self-Comparison', \n",
    "    'Loneliness Frequency'\n",
    "]\n",
    "\n",
    "print(df.columns)"
   ]
  },
  {
   "cell_type": "markdown",
   "id": "9d7d8d59-5281-4cbd-a255-2e713366d920",
   "metadata": {},
   "source": [
    "### Checking for duplicate and missing values"
   ]
  },
  {
   "cell_type": "code",
   "execution_count": 63,
   "id": "e72cdc44-ae73-4952-81bf-730df0d7cde6",
   "metadata": {},
   "outputs": [],
   "source": [
    "df.drop(columns=['Timestamp'], inplace=True)"
   ]
  },
  {
   "cell_type": "code",
   "execution_count": 64,
   "id": "5ef75e77-cd6e-48c5-9e29-0253335b13b4",
   "metadata": {},
   "outputs": [
    {
     "data": {
      "text/plain": [
       "1"
      ]
     },
     "execution_count": 64,
     "metadata": {},
     "output_type": "execute_result"
    }
   ],
   "source": [
    "df.duplicated().sum()"
   ]
  },
  {
   "cell_type": "code",
   "execution_count": 65,
   "id": "98bb2ef7-a249-47a6-ba99-49c6a444ad2b",
   "metadata": {},
   "outputs": [],
   "source": [
    "# Remove duplicate rows\n",
    "df = df.drop_duplicates()\n",
    "df = df.reset_index(drop=True)"
   ]
  },
  {
   "cell_type": "code",
   "execution_count": 66,
   "id": "20c4fb0f-158c-44ac-888e-206b62b691ba",
   "metadata": {},
   "outputs": [
    {
     "data": {
      "text/plain": [
       "0"
      ]
     },
     "execution_count": 66,
     "metadata": {},
     "output_type": "execute_result"
    }
   ],
   "source": [
    "df.duplicated().sum()"
   ]
  },
  {
   "cell_type": "code",
   "execution_count": 67,
   "id": "b8025faf-d87d-41cd-8388-e0b1036ef87b",
   "metadata": {},
   "outputs": [
    {
     "data": {
      "text/plain": [
       "Gender                             0\n",
       "Age                                0\n",
       "City                               0\n",
       "Marital Status                     0\n",
       "Religious Person                   0\n",
       "Living with Family                 0\n",
       "Living Environment Satisfaction    0\n",
       "Sleep Duration                     0\n",
       "Night/Day Sleep Preference         0\n",
       "Working Professional or Student    0\n",
       "Profession                         0\n",
       "Academic/Work Pressure             0\n",
       "CGPA                               0\n",
       "Study/Job Satisfaction             0\n",
       "Work/Study Hours                   0\n",
       "Financial Stress                   0\n",
       "Study Degree                       0\n",
       "Dietary Habits                     0\n",
       "Physical Activity Frequency        0\n",
       "Smoking                            0\n",
       "Alcohol Consumption                0\n",
       "Suicidal Thoughts                  0\n",
       "Family Mental Illness History      0\n",
       "Depression                         0\n",
       "Social Media Usage Hours           0\n",
       "Body Image Satisfaction            0\n",
       "Self-Comparison                    0\n",
       "Loneliness Frequency               0\n",
       "dtype: int64"
      ]
     },
     "execution_count": 67,
     "metadata": {},
     "output_type": "execute_result"
    }
   ],
   "source": [
    "df.isnull().sum()"
   ]
  },
  {
   "cell_type": "markdown",
   "id": "4c2622d9-8b5d-4379-a213-0634c55dee6a",
   "metadata": {},
   "source": [
    "# Data cleaning & Data transformation"
   ]
  },
  {
   "cell_type": "code",
   "execution_count": 68,
   "id": "6487e1d9-d719-4e80-8a84-8fb19c855024",
   "metadata": {},
   "outputs": [
    {
     "name": "stdout",
     "output_type": "stream",
     "text": [
      "<class 'pandas.core.frame.DataFrame'>\n",
      "RangeIndex: 120 entries, 0 to 119\n",
      "Data columns (total 28 columns):\n",
      " #   Column                           Non-Null Count  Dtype \n",
      "---  ------                           --------------  ----- \n",
      " 0   Gender                           120 non-null    object\n",
      " 1   Age                              120 non-null    int64 \n",
      " 2   City                             120 non-null    object\n",
      " 3   Marital Status                   120 non-null    object\n",
      " 4   Religious Person                 120 non-null    object\n",
      " 5   Living with Family               120 non-null    object\n",
      " 6   Living Environment Satisfaction  120 non-null    object\n",
      " 7   Sleep Duration                   120 non-null    object\n",
      " 8   Night/Day Sleep Preference       120 non-null    object\n",
      " 9   Working Professional or Student  120 non-null    object\n",
      " 10  Profession                       120 non-null    object\n",
      " 11  Academic/Work Pressure           120 non-null    int64 \n",
      " 12  CGPA                             120 non-null    object\n",
      " 13  Study/Job Satisfaction           120 non-null    int64 \n",
      " 14  Work/Study Hours                 120 non-null    object\n",
      " 15  Financial Stress                 120 non-null    object\n",
      " 16  Study Degree                     120 non-null    object\n",
      " 17  Dietary Habits                   120 non-null    object\n",
      " 18  Physical Activity Frequency      120 non-null    object\n",
      " 19  Smoking                          120 non-null    object\n",
      " 20  Alcohol Consumption              120 non-null    object\n",
      " 21  Suicidal Thoughts                120 non-null    object\n",
      " 22  Family Mental Illness History    120 non-null    object\n",
      " 23  Depression                       120 non-null    object\n",
      " 24  Social Media Usage Hours         120 non-null    object\n",
      " 25  Body Image Satisfaction          120 non-null    int64 \n",
      " 26  Self-Comparison                  120 non-null    object\n",
      " 27  Loneliness Frequency             120 non-null    object\n",
      "dtypes: int64(4), object(24)\n",
      "memory usage: 26.4+ KB\n"
     ]
    }
   ],
   "source": [
    "df.info()"
   ]
  },
  {
   "cell_type": "code",
   "execution_count": 69,
   "id": "835563a9-b750-49d8-938c-77a9e01a1463",
   "metadata": {
    "scrolled": true
   },
   "outputs": [
    {
     "data": {
      "text/html": [
       "<div>\n",
       "<style scoped>\n",
       "    .dataframe tbody tr th:only-of-type {\n",
       "        vertical-align: middle;\n",
       "    }\n",
       "\n",
       "    .dataframe tbody tr th {\n",
       "        vertical-align: top;\n",
       "    }\n",
       "\n",
       "    .dataframe thead th {\n",
       "        text-align: right;\n",
       "    }\n",
       "</style>\n",
       "<table border=\"1\" class=\"dataframe\">\n",
       "  <thead>\n",
       "    <tr style=\"text-align: right;\">\n",
       "      <th></th>\n",
       "      <th>Gender</th>\n",
       "      <th>Age</th>\n",
       "      <th>City</th>\n",
       "      <th>Marital Status</th>\n",
       "      <th>Religious Person</th>\n",
       "      <th>Living with Family</th>\n",
       "      <th>Living Environment Satisfaction</th>\n",
       "      <th>Sleep Duration</th>\n",
       "      <th>Night/Day Sleep Preference</th>\n",
       "      <th>Working Professional or Student</th>\n",
       "      <th>Profession</th>\n",
       "      <th>Academic/Work Pressure</th>\n",
       "      <th>CGPA</th>\n",
       "      <th>Study/Job Satisfaction</th>\n",
       "      <th>Work/Study Hours</th>\n",
       "      <th>Financial Stress</th>\n",
       "      <th>Study Degree</th>\n",
       "      <th>Dietary Habits</th>\n",
       "      <th>Physical Activity Frequency</th>\n",
       "      <th>Smoking</th>\n",
       "      <th>Alcohol Consumption</th>\n",
       "      <th>Suicidal Thoughts</th>\n",
       "      <th>Family Mental Illness History</th>\n",
       "      <th>Depression</th>\n",
       "      <th>Social Media Usage Hours</th>\n",
       "      <th>Body Image Satisfaction</th>\n",
       "      <th>Self-Comparison</th>\n",
       "      <th>Loneliness Frequency</th>\n",
       "    </tr>\n",
       "  </thead>\n",
       "  <tbody>\n",
       "    <tr>\n",
       "      <th>0</th>\n",
       "      <td>Male</td>\n",
       "      <td>20</td>\n",
       "      <td>Al hociema</td>\n",
       "      <td>Single</td>\n",
       "      <td>yes</td>\n",
       "      <td>no</td>\n",
       "      <td>yes</td>\n",
       "      <td>More than 8 hours</td>\n",
       "      <td>At night</td>\n",
       "      <td>Student</td>\n",
       "      <td></td>\n",
       "      <td>4</td>\n",
       "      <td>7</td>\n",
       "      <td>4</td>\n",
       "      <td>11 hours</td>\n",
       "      <td>Moderate financial stress</td>\n",
       "      <td>Master’s Degree</td>\n",
       "      <td>Moderate (eating a mix of healthy and unhealth...</td>\n",
       "      <td>Sometimes – I engage in physical activity occa...</td>\n",
       "      <td>no</td>\n",
       "      <td>no</td>\n",
       "      <td>No</td>\n",
       "      <td>yes</td>\n",
       "      <td>No</td>\n",
       "      <td>Less than 1 hour</td>\n",
       "      <td>5</td>\n",
       "      <td>No</td>\n",
       "      <td>Never</td>\n",
       "    </tr>\n",
       "    <tr>\n",
       "      <th>1</th>\n",
       "      <td>Male</td>\n",
       "      <td>23</td>\n",
       "      <td>Rabat</td>\n",
       "      <td>Single</td>\n",
       "      <td>yes</td>\n",
       "      <td>no</td>\n",
       "      <td>yes</td>\n",
       "      <td>5-6 hours</td>\n",
       "      <td>At night</td>\n",
       "      <td>Student</td>\n",
       "      <td></td>\n",
       "      <td>3</td>\n",
       "      <td>8</td>\n",
       "      <td>4</td>\n",
       "      <td>5 hours</td>\n",
       "      <td>High financial stress</td>\n",
       "      <td>Bachelor’s Degree</td>\n",
       "      <td>Healthy (e.g., eating fruits, vegetables, and ...</td>\n",
       "      <td>Regularly – I engage in physical activity on a...</td>\n",
       "      <td>no</td>\n",
       "      <td>no</td>\n",
       "      <td>No</td>\n",
       "      <td>no</td>\n",
       "      <td>No</td>\n",
       "      <td>1-2 hours</td>\n",
       "      <td>2</td>\n",
       "      <td>Yes</td>\n",
       "      <td>Sometimes</td>\n",
       "    </tr>\n",
       "    <tr>\n",
       "      <th>2</th>\n",
       "      <td>Male</td>\n",
       "      <td>22</td>\n",
       "      <td>moroco</td>\n",
       "      <td>Single</td>\n",
       "      <td>yes</td>\n",
       "      <td>yes</td>\n",
       "      <td>no</td>\n",
       "      <td>5-6 hours</td>\n",
       "      <td>At night</td>\n",
       "      <td>Working Professional</td>\n",
       "      <td>m</td>\n",
       "      <td>3</td>\n",
       "      <td>7</td>\n",
       "      <td>2</td>\n",
       "      <td>3 hours</td>\n",
       "      <td>High financial stress</td>\n",
       "      <td>Doctorate (Ph.D.)</td>\n",
       "      <td>Moderate (eating a mix of healthy and unhealth...</td>\n",
       "      <td>Sometimes – I engage in physical activity occa...</td>\n",
       "      <td>yes</td>\n",
       "      <td>no</td>\n",
       "      <td>No</td>\n",
       "      <td>no</td>\n",
       "      <td>No</td>\n",
       "      <td>1-2 hours</td>\n",
       "      <td>4</td>\n",
       "      <td>No</td>\n",
       "      <td>Never</td>\n",
       "    </tr>\n",
       "    <tr>\n",
       "      <th>3</th>\n",
       "      <td>Male</td>\n",
       "      <td>18</td>\n",
       "      <td>Alger</td>\n",
       "      <td>Single</td>\n",
       "      <td>yes</td>\n",
       "      <td>yes</td>\n",
       "      <td>no</td>\n",
       "      <td>5-6 hours</td>\n",
       "      <td>At night</td>\n",
       "      <td>Working Professional</td>\n",
       "      <td>E commerce</td>\n",
       "      <td>3</td>\n",
       "      <td>7</td>\n",
       "      <td>4</td>\n",
       "      <td>6 hours</td>\n",
       "      <td>No financial stress</td>\n",
       "      <td>High School</td>\n",
       "      <td>Moderate (eating a mix of healthy and unhealth...</td>\n",
       "      <td>Never – I do not engage in any physical activity.</td>\n",
       "      <td>no</td>\n",
       "      <td>no</td>\n",
       "      <td>No</td>\n",
       "      <td>yes</td>\n",
       "      <td>No</td>\n",
       "      <td>2-4 hours</td>\n",
       "      <td>3</td>\n",
       "      <td>Yes</td>\n",
       "      <td>Sometimes</td>\n",
       "    </tr>\n",
       "    <tr>\n",
       "      <th>4</th>\n",
       "      <td>Male</td>\n",
       "      <td>17</td>\n",
       "      <td>Fes</td>\n",
       "      <td>Single</td>\n",
       "      <td>yes</td>\n",
       "      <td>yes</td>\n",
       "      <td>no</td>\n",
       "      <td>Less than 5 hours</td>\n",
       "      <td>At night</td>\n",
       "      <td>Student</td>\n",
       "      <td></td>\n",
       "      <td>2</td>\n",
       "      <td>6</td>\n",
       "      <td>2</td>\n",
       "      <td>6 hours</td>\n",
       "      <td>High financial stress</td>\n",
       "      <td>High School</td>\n",
       "      <td>Unhealthy (e.g., eating junk food, sugary snacks)</td>\n",
       "      <td>Never – I do not engage in any physical activity.</td>\n",
       "      <td>no</td>\n",
       "      <td>no</td>\n",
       "      <td>No</td>\n",
       "      <td>no</td>\n",
       "      <td>No</td>\n",
       "      <td>1-2 hours</td>\n",
       "      <td>4</td>\n",
       "      <td>No</td>\n",
       "      <td>Sometimes</td>\n",
       "    </tr>\n",
       "  </tbody>\n",
       "</table>\n",
       "</div>"
      ],
      "text/plain": [
       "  Gender  Age        City Marital Status Religious Person Living with Family  \\\n",
       "0   Male   20  Al hociema         Single              yes                 no   \n",
       "1   Male   23       Rabat         Single              yes                 no   \n",
       "2   Male   22      moroco         Single              yes                yes   \n",
       "3   Male   18      Alger          Single              yes                yes   \n",
       "4   Male   17         Fes         Single              yes                yes   \n",
       "\n",
       "  Living Environment Satisfaction     Sleep Duration  \\\n",
       "0                             yes  More than 8 hours   \n",
       "1                             yes          5-6 hours   \n",
       "2                              no          5-6 hours   \n",
       "3                              no          5-6 hours   \n",
       "4                              no  Less than 5 hours   \n",
       "\n",
       "  Night/Day Sleep Preference Working Professional or Student   Profession  \\\n",
       "0                   At night                         Student                \n",
       "1                   At night                         Student                \n",
       "2                   At night            Working Professional            m   \n",
       "3                   At night            Working Professional  E commerce    \n",
       "4                   At night                         Student                \n",
       "\n",
       "   Academic/Work Pressure CGPA  Study/Job Satisfaction Work/Study Hours  \\\n",
       "0                       4    7                       4         11 hours   \n",
       "1                       3    8                       4          5 hours   \n",
       "2                       3    7                       2          3 hours   \n",
       "3                       3    7                       4          6 hours   \n",
       "4                       2    6                       2          6 hours   \n",
       "\n",
       "            Financial Stress       Study Degree  \\\n",
       "0  Moderate financial stress    Master’s Degree   \n",
       "1      High financial stress  Bachelor’s Degree   \n",
       "2      High financial stress  Doctorate (Ph.D.)   \n",
       "3        No financial stress        High School   \n",
       "4      High financial stress        High School   \n",
       "\n",
       "                                      Dietary Habits  \\\n",
       "0  Moderate (eating a mix of healthy and unhealth...   \n",
       "1  Healthy (e.g., eating fruits, vegetables, and ...   \n",
       "2  Moderate (eating a mix of healthy and unhealth...   \n",
       "3  Moderate (eating a mix of healthy and unhealth...   \n",
       "4  Unhealthy (e.g., eating junk food, sugary snacks)   \n",
       "\n",
       "                         Physical Activity Frequency Smoking  \\\n",
       "0  Sometimes – I engage in physical activity occa...      no   \n",
       "1  Regularly – I engage in physical activity on a...      no   \n",
       "2  Sometimes – I engage in physical activity occa...     yes   \n",
       "3  Never – I do not engage in any physical activity.      no   \n",
       "4  Never – I do not engage in any physical activity.      no   \n",
       "\n",
       "  Alcohol Consumption Suicidal Thoughts Family Mental Illness History  \\\n",
       "0                  no                No                           yes   \n",
       "1                  no                No                            no   \n",
       "2                  no                No                            no   \n",
       "3                  no                No                           yes   \n",
       "4                  no                No                            no   \n",
       "\n",
       "  Depression Social Media Usage Hours  Body Image Satisfaction  \\\n",
       "0         No         Less than 1 hour                        5   \n",
       "1         No                1-2 hours                        2   \n",
       "2         No                1-2 hours                        4   \n",
       "3         No                2-4 hours                        3   \n",
       "4         No                1-2 hours                        4   \n",
       "\n",
       "  Self-Comparison Loneliness Frequency  \n",
       "0              No                Never  \n",
       "1             Yes            Sometimes  \n",
       "2              No                Never  \n",
       "3             Yes            Sometimes  \n",
       "4              No            Sometimes  "
      ]
     },
     "execution_count": 69,
     "metadata": {},
     "output_type": "execute_result"
    }
   ],
   "source": [
    "df.head()"
   ]
  },
  {
   "cell_type": "markdown",
   "id": "d61effa0-bb1f-4f94-9cb9-9374d852e40b",
   "metadata": {},
   "source": [
    "#### `Age` Feature"
   ]
  },
  {
   "cell_type": "code",
   "execution_count": 70,
   "id": "0311860e-e71d-4498-8a58-39e845794ebf",
   "metadata": {},
   "outputs": [
    {
     "data": {
      "text/plain": [
       "array([  20,   23,   22,   18,   17,   47,   24, 1981,   57,   19,   21,\n",
       "         28,   26], dtype=int64)"
      ]
     },
     "execution_count": 70,
     "metadata": {},
     "output_type": "execute_result"
    }
   ],
   "source": [
    "df['Age'].unique()"
   ]
  },
  {
   "cell_type": "code",
   "execution_count": 71,
   "id": "65c5abc5-2ffb-4220-9811-a5cc7e8ccf59",
   "metadata": {},
   "outputs": [
    {
     "data": {
      "text/plain": [
       "array([20, 23, 22, 18, 17, 47, 24, 43, 57, 19, 21, 28, 26], dtype=int64)"
      ]
     },
     "execution_count": 71,
     "metadata": {},
     "output_type": "execute_result"
    }
   ],
   "source": [
    "# Convert birth year to age\n",
    "df['Age'] = df['Age'].apply(lambda x: 2024 - x if x > 1000 else x)\n",
    "df['Age'].unique()"
   ]
  },
  {
   "cell_type": "markdown",
   "id": "cbfcf9f7-d146-4716-a5c9-95c4796f089f",
   "metadata": {},
   "source": [
    "#### `Sleep Duration` Feature"
   ]
  },
  {
   "cell_type": "code",
   "execution_count": 72,
   "id": "1f7adb42-788e-4259-894c-11d4a52f8cdb",
   "metadata": {},
   "outputs": [
    {
     "data": {
      "text/plain": [
       "array(['More than 8 hours', '5-6 hours', 'Less than 5 hours', '6-7 hours',\n",
       "       '7-8 hours'], dtype=object)"
      ]
     },
     "execution_count": 72,
     "metadata": {},
     "output_type": "execute_result"
    }
   ],
   "source": [
    "df['Sleep Duration'].unique()"
   ]
  },
  {
   "cell_type": "code",
   "execution_count": 73,
   "id": "169eda6b-5999-43e8-b614-5ea6be54a532",
   "metadata": {},
   "outputs": [
    {
     "data": {
      "text/plain": [
       "array(['More than 8 hours', '5-6 hours', 'Less than 5 hours', '7-8 hours'],\n",
       "      dtype=object)"
      ]
     },
     "execution_count": 73,
     "metadata": {},
     "output_type": "execute_result"
    }
   ],
   "source": [
    "# Replace '6-7 hours' randomly with '5-6 hours' or '7-8 hours'\n",
    "df['Sleep Duration'] = df['Sleep Duration'].apply(\n",
    "    lambda x: np.random.choice(['5-6 hours', '7-8 hours']) if x == '6-7 hours' else x\n",
    ")\n",
    "df['Sleep Duration'].unique()"
   ]
  },
  {
   "cell_type": "markdown",
   "id": "e6fa7584-ceba-4676-8dd4-ff0f6a9f19a6",
   "metadata": {},
   "source": [
    "#### `Profession` Feature"
   ]
  },
  {
   "cell_type": "code",
   "execution_count": 74,
   "id": "fc098729-caed-4bd3-a335-80c0dbcb2382",
   "metadata": {},
   "outputs": [
    {
     "data": {
      "text/plain": [
       "array(['', 'm', 'E commerce ', 'Commercial ', 'Magazziniere ', 'حرفا ',\n",
       "       'Décoratrice', 'J', 'etudiant', 'None', 'No', 'Étudiant ', \"'\"],\n",
       "      dtype=object)"
      ]
     },
     "execution_count": 74,
     "metadata": {},
     "output_type": "execute_result"
    }
   ],
   "source": [
    "df['Profession'].unique()"
   ]
  },
  {
   "cell_type": "code",
   "execution_count": 75,
   "id": "452dd46b-0de0-4076-90b2-1252bf13a8f0",
   "metadata": {},
   "outputs": [
    {
     "data": {
      "text/plain": [
       "array(['Student', 'Unknown', 'E-commerce', 'Commercial',\n",
       "       'Warehouse Worker', 'Craftsman', 'Decorator'], dtype=object)"
      ]
     },
     "execution_count": 75,
     "metadata": {},
     "output_type": "execute_result"
    }
   ],
   "source": [
    "# Replace invalid 'Profession' entries with NaN\n",
    "df['Profession'] = df['Profession'].replace(['', 'None', \"'\", 'No', 'Étudiant ','etudiant'], pd.NA)\n",
    "\n",
    "# Fill missing 'Profession' values based on the 'Working Professional or Student' column\n",
    "df.loc[df['Profession'].isna() & (df['Working Professional or Student'] == 'Student'), 'Profession'] = 'Student'\n",
    "\n",
    "df['Profession'] = df['Profession'].replace(['J', 'm'], 'Unknown')\n",
    "translations = {\n",
    "    'E commerce ': 'E-commerce',\n",
    "    'Commercial ': 'Commercial',\n",
    "    'Magazziniere ': 'Warehouse Worker',\n",
    "    'حرفا ': 'Craftsman',\n",
    "    'Décoratrice': 'Decorator'\n",
    "}\n",
    "\n",
    "df['Profession'] = df['Profession'].replace(translations)\n",
    "df['Profession'].unique()"
   ]
  },
  {
   "cell_type": "markdown",
   "id": "92e58f04-aaaf-4b06-996e-6e83bdfab4f1",
   "metadata": {},
   "source": [
    "#### `CGPA` Feature\n"
   ]
  },
  {
   "cell_type": "code",
   "execution_count": 76,
   "id": "ef73ed9c-6ac6-4403-93dc-3369a0ff81eb",
   "metadata": {},
   "outputs": [
    {
     "data": {
      "text/plain": [
       "CGPA\n",
       "        28\n",
       "7       25\n",
       "6       14\n",
       "8       14\n",
       "7.5     12\n",
       "6.5      6\n",
       "5        5\n",
       "8.5      5\n",
       "10       2\n",
       "9        2\n",
       "7.41     1\n",
       "8.35     1\n",
       "7.25     1\n",
       "9.5      1\n",
       "8.11     1\n",
       "8.1      1\n",
       "5.5      1\n",
       "Name: count, dtype: int64"
      ]
     },
     "execution_count": 76,
     "metadata": {},
     "output_type": "execute_result"
    }
   ],
   "source": [
    "df['CGPA'].value_counts()"
   ]
  },
  {
   "cell_type": "code",
   "execution_count": 77,
   "id": "6849fa31-991a-4647-8df4-85f13dff3472",
   "metadata": {},
   "outputs": [],
   "source": [
    "# Convert CGPA to numeric (float)\n",
    "df['CGPA'] = pd.to_numeric(df['CGPA'], errors='coerce').round(2)"
   ]
  },
  {
   "cell_type": "code",
   "execution_count": 78,
   "id": "748ce539-7c96-4b6d-858b-7ca31929501b",
   "metadata": {},
   "outputs": [
    {
     "data": {
      "text/plain": [
       "CGPA\n",
       "7.00     53\n",
       "8.00     14\n",
       "6.00     14\n",
       "7.50     12\n",
       "6.50      6\n",
       "5.00      5\n",
       "8.50      5\n",
       "10.00     2\n",
       "9.00      2\n",
       "7.41      1\n",
       "8.35      1\n",
       "7.25      1\n",
       "9.50      1\n",
       "8.11      1\n",
       "8.10      1\n",
       "5.50      1\n",
       "Name: count, dtype: int64"
      ]
     },
     "execution_count": 78,
     "metadata": {},
     "output_type": "execute_result"
    }
   ],
   "source": [
    "# Impute missing values with the median of the CGPA column\n",
    "df['CGPA'] = df['CGPA'].fillna(df['CGPA'].median())\n",
    "df['CGPA'].value_counts()"
   ]
  },
  {
   "cell_type": "markdown",
   "id": "f6b999cf-92f8-42cd-ade1-ff1a434c64a0",
   "metadata": {},
   "source": [
    "#### `Work/Study Hours` Feature"
   ]
  },
  {
   "cell_type": "code",
   "execution_count": 79,
   "id": "e9500418-e0ef-44a2-a958-fbd9c395feee",
   "metadata": {},
   "outputs": [
    {
     "data": {
      "text/plain": [
       "array(['11 hours', '5 hours', '3 hours', '6 hours', '8 hours', '7 hours',\n",
       "       '9 hours', '10 hours', '4 hours', '12 hours', '0 hours', '2 hours',\n",
       "       'More than 12 hours', '1 hour'], dtype=object)"
      ]
     },
     "execution_count": 79,
     "metadata": {},
     "output_type": "execute_result"
    }
   ],
   "source": [
    "df['Work/Study Hours'].unique()"
   ]
  },
  {
   "cell_type": "code",
   "execution_count": 80,
   "id": "6b0d944e-955f-4f37-a18a-14c35bd6169c",
   "metadata": {},
   "outputs": [],
   "source": [
    "work_study_hours_mapping = {\n",
    "    '11 hours': 11,\n",
    "    '5 hours': 5,\n",
    "    '3 hours': 3,\n",
    "    '6 hours': 6,\n",
    "    '8 hours': 8,\n",
    "    '7 hours': 7,\n",
    "    '9 hours': 9,\n",
    "    '10 hours': 10,\n",
    "    '4 hours': 4,\n",
    "    '12 hours': 12,\n",
    "    '0 hours': 0,\n",
    "    '2 hours': 2,\n",
    "    '1 hour': 1,\n",
    "    'More than 12 hours': 13  \n",
    "}\n",
    "\n",
    "df['Work/Study Hours'] = df['Work/Study Hours'].apply(lambda x: work_study_hours_mapping.get(x, x)).astype(int)\n"
   ]
  },
  {
   "cell_type": "markdown",
   "id": "3eb2f3c5-a56e-440f-af9b-d5b82a062e1a",
   "metadata": {},
   "source": [
    "#### Financial Stress Feature"
   ]
  },
  {
   "cell_type": "code",
   "execution_count": 81,
   "id": "7baa976a-8e43-48b6-8ab1-674b6d4c5525",
   "metadata": {},
   "outputs": [
    {
     "data": {
      "text/plain": [
       "array(['Moderate financial stress', 'High financial stress',\n",
       "       'No financial stress', 'Low financial stress',\n",
       "       'Very high financial stress'], dtype=object)"
      ]
     },
     "execution_count": 81,
     "metadata": {},
     "output_type": "execute_result"
    }
   ],
   "source": [
    "df['Financial Stress'].unique()"
   ]
  },
  {
   "cell_type": "code",
   "execution_count": 82,
   "id": "f38ddeee-11cb-43f2-ab1e-353a7f15c1eb",
   "metadata": {},
   "outputs": [
    {
     "data": {
      "text/plain": [
       "array([3, 4, 1, 2, 5], dtype=int64)"
      ]
     },
     "execution_count": 82,
     "metadata": {},
     "output_type": "execute_result"
    }
   ],
   "source": [
    "stress_mapping = {\n",
    "    'No financial stress': 1,\n",
    "    'Low financial stress': 2,\n",
    "    'Moderate financial stress': 3,\n",
    "    'High financial stress': 4,\n",
    "    'Very high financial stress': 5\n",
    "}\n",
    "\n",
    "# Apply the mapping\n",
    "df['Financial Stress'] = df['Financial Stress'].map(stress_mapping)\n",
    "df['Financial Stress'].unique()"
   ]
  },
  {
   "cell_type": "markdown",
   "id": "b60d305b-1b1f-431e-942d-4ff93f5e4587",
   "metadata": {},
   "source": [
    "#### `Study Degree` Feature"
   ]
  },
  {
   "cell_type": "code",
   "execution_count": 83,
   "id": "925502c8-979b-46d5-961e-0f874675bdc5",
   "metadata": {},
   "outputs": [
    {
     "data": {
      "text/plain": [
       "Study Degree\n",
       "Preparatory Classes            42\n",
       "Engineering Diploma            37\n",
       "Bachelor’s Degree              15\n",
       "High School                    12\n",
       "Master’s Degree                 8\n",
       "Doctorate (Ph.D.)               3\n",
       "bac±3                           1\n",
       "1ere année cycle ingénieur      1\n",
       "1ère année ensa                 1\n",
       "Name: count, dtype: int64"
      ]
     },
     "execution_count": 83,
     "metadata": {},
     "output_type": "execute_result"
    }
   ],
   "source": [
    "df['Study Degree'].value_counts()"
   ]
  },
  {
   "cell_type": "code",
   "execution_count": 84,
   "id": "3fe532de-9e81-4758-9b2a-6096e7ef89b9",
   "metadata": {},
   "outputs": [],
   "source": [
    "study_degree_mapping = {\n",
    "    'Preparatory Classes': 'Preparatory Classes',\n",
    "    'Engineering Diploma': 'Engineering Diploma',\n",
    "    'Bachelor’s Degree': 'Bachelor’s Degree',\n",
    "    'High School': 'High School',\n",
    "    'Master’s Degree': 'Master’s Degree',\n",
    "    'Doctorate (Ph.D.)': 'PhD',\n",
    "    'bac±3': 'Bachelor’s Degree',\n",
    "    '1ere année cycle ingénieur ': 'Preparatory Classes',\n",
    "    '1ère année ensa': 'Preparatory Classes'\n",
    "}\n",
    "df['Study Degree'] = df['Study Degree'].replace(study_degree_mapping)"
   ]
  },
  {
   "cell_type": "markdown",
   "id": "c417ba1f-1c29-4cf2-9b93-1b30eea52d3f",
   "metadata": {},
   "source": [
    "#### `Dietary Habits` Feature"
   ]
  },
  {
   "cell_type": "code",
   "execution_count": 85,
   "id": "20560f7e-11cf-4be2-9d51-da55db7c7f0f",
   "metadata": {},
   "outputs": [
    {
     "data": {
      "text/plain": [
       "array(['Moderate (eating a mix of healthy and unhealthy foods)',\n",
       "       'Healthy (e.g., eating fruits, vegetables, and balanced meals)',\n",
       "       'Unhealthy (e.g., eating junk food, sugary snacks)'], dtype=object)"
      ]
     },
     "execution_count": 85,
     "metadata": {},
     "output_type": "execute_result"
    }
   ],
   "source": [
    "df['Dietary Habits'].unique()"
   ]
  },
  {
   "cell_type": "code",
   "execution_count": 86,
   "id": "23b09bb1-2997-4359-805f-a8d2add0b43b",
   "metadata": {},
   "outputs": [],
   "source": [
    "dietary_habits_mapping = {\n",
    "    'Moderate (eating a mix of healthy and unhealthy foods)': 'Moderate',\n",
    "    'Healthy (e.g., eating fruits, vegetables, and balanced meals)': 'Healthy',\n",
    "    'Unhealthy (e.g., eating junk food, sugary snacks)': 'Unhealthy'\n",
    "}\n",
    "\n",
    "# Apply the mapping\n",
    "df['Dietary Habits'] = df['Dietary Habits'].replace(dietary_habits_mapping)"
   ]
  },
  {
   "cell_type": "markdown",
   "id": "45e945b9-84de-4661-acd7-7764eef0b8c9",
   "metadata": {},
   "source": [
    "#### `Physical Activity Frequency` Feature"
   ]
  },
  {
   "cell_type": "code",
   "execution_count": 87,
   "id": "a34534f8-e820-49e5-8e67-244ec93b3cfa",
   "metadata": {},
   "outputs": [
    {
     "data": {
      "text/plain": [
       "array(['Sometimes – I engage in physical activity occasionally.',\n",
       "       'Regularly – I engage in physical activity on a regular basis (e.g., several times a week).',\n",
       "       'Never – I do not engage in any physical activity.'], dtype=object)"
      ]
     },
     "execution_count": 87,
     "metadata": {},
     "output_type": "execute_result"
    }
   ],
   "source": [
    "df['Physical Activity Frequency'].unique()"
   ]
  },
  {
   "cell_type": "code",
   "execution_count": 88,
   "id": "d5b04a74-e7b5-4138-ad29-51a9a6dface6",
   "metadata": {},
   "outputs": [],
   "source": [
    "physical_activity_mapping = {\n",
    "    'Sometimes – I engage in physical activity occasionally.': 'Sometimes',\n",
    "    'Regularly – I engage in physical activity on a regular basis (e.g., several times a week).': 'Regularly',\n",
    "    'Never – I do not engage in any physical activity.': 'Never'\n",
    "}\n",
    "\n",
    "# Apply the mapping\n",
    "df['Physical Activity Frequency'] = df['Physical Activity Frequency'].replace(physical_activity_mapping)"
   ]
  },
  {
   "cell_type": "markdown",
   "id": "7ec04030-3893-4551-bc9a-46f8e8cc2967",
   "metadata": {},
   "source": [
    "#### `City` Feature"
   ]
  },
  {
   "cell_type": "code",
   "execution_count": 89,
   "id": "62aa4580-22bc-4d7f-8e5f-3d311939ce6c",
   "metadata": {},
   "outputs": [
    {
     "data": {
      "text/plain": [
       "array(['Al hociema', 'Rabat', 'moroco', 'Alger ', 'Fes', 'Casablanca ',\n",
       "       'الرشيدية ', 'Novara ', 'شمال المغرب ', 'Algérie ', 'Jj', 'meknes',\n",
       "       'Tetouan', 'Al-Hoceima', 'Casablanca', 'Hoceima', 'Al hoceima',\n",
       "       'NADOR', 'khénifra', 'Casa', 'targuist', 'RABAT', 'Skhirat ',\n",
       "       'taounate ', 'hociema', 'TANGER', 'Fès ', 'boukidan', '', 'Agadir',\n",
       "       'errachidia', 'Alhoceima', 'الرشيدية', 'Al Hoceïma ', 'Taza',\n",
       "       'Taounate', 'Tinghire ', 'Al hoceima ', 'casablanca', 'al hociema',\n",
       "       'سلا', 'hoceima', 'Tanger', 'Rich', 'Imzourne', 'Planet Earth',\n",
       "       'Al hoceimi ', 'Alhoceima ', 'casa', 'Marrakech', 'Midelt',\n",
       "       'marrakech', 'Kénitra ', 'Targuist', 'Er rich ', 'tangier',\n",
       "       'Driouch', 'Touissit', 'Boulemane ', 'Al houceima ', 'Al_hosaima',\n",
       "       'طنجة', 'Mokrisset ', 'Tanger ', 'الناظور ', 'Oujda', 'Morocco hh',\n",
       "       'المغرب', 'Boukidan', 'KENITRA', 'TETOUAN', 'Meknes', 'Kenitra'],\n",
       "      dtype=object)"
      ]
     },
     "execution_count": 89,
     "metadata": {},
     "output_type": "execute_result"
    }
   ],
   "source": [
    "df['City'].unique()"
   ]
  },
  {
   "cell_type": "code",
   "execution_count": 90,
   "id": "787b2111-43dc-4a3a-b914-fae1c50b3f2c",
   "metadata": {},
   "outputs": [
    {
     "data": {
      "text/plain": [
       "Index(['Gender', 'Age', 'City', 'Marital Status', 'Religious Person',\n",
       "       'Living with Family', 'Living Environment Satisfaction',\n",
       "       'Sleep Duration', 'Night/Day Sleep Preference',\n",
       "       'Working Professional or Student', 'Profession',\n",
       "       'Academic/Work Pressure', 'CGPA', 'Study/Job Satisfaction',\n",
       "       'Work/Study Hours', 'Financial Stress', 'Study Degree',\n",
       "       'Dietary Habits', 'Physical Activity Frequency', 'Smoking',\n",
       "       'Alcohol Consumption', 'Suicidal Thoughts',\n",
       "       'Family Mental Illness History', 'Depression',\n",
       "       'Social Media Usage Hours', 'Body Image Satisfaction',\n",
       "       'Self-Comparison', 'Loneliness Frequency'],\n",
       "      dtype='object')"
      ]
     },
     "execution_count": 90,
     "metadata": {},
     "output_type": "execute_result"
    }
   ],
   "source": [
    "df.columns"
   ]
  },
  {
   "cell_type": "code",
   "execution_count": 91,
   "id": "b47db2d7-032a-4a2e-88a2-070478675219",
   "metadata": {},
   "outputs": [],
   "source": [
    "# - 'City': While it may have a small influence, its high cardinality adds complexity without significant predictive power.\n",
    "df.drop(columns=['City'], inplace=True)"
   ]
  },
  {
   "cell_type": "code",
   "execution_count": 92,
   "id": "02e6c907-b04f-484b-9e39-a7e18cd1c35a",
   "metadata": {},
   "outputs": [],
   "source": [
    "# Define the new column order\n",
    "column_order = [\n",
    "    'Gender',\n",
    "    'Age',\n",
    "    'Sleep Duration',\n",
    "    'Working Professional or Student',\n",
    "    'Profession',\n",
    "    'Study Degree',\n",
    "    'CGPA',\n",
    "    'Work/Study Hours',\n",
    "    'Academic/Work Pressure',\n",
    "    'Study/Job Satisfaction',\n",
    "    'Financial Stress',\n",
    "    'Dietary Habits',\n",
    "    'Suicidal Thoughts',\n",
    "    'Family Mental Illness History',\n",
    "    'Marital Status',\n",
    "    'Religious Person',\n",
    "    'Living with Family',\n",
    "    'Living Environment Satisfaction',\n",
    "    'Night/Day Sleep Preference',\n",
    "    'Physical Activity Frequency',\n",
    "    'Smoking',\n",
    "    'Alcohol Consumption',\n",
    "    'Social Media Usage Hours',\n",
    "    'Body Image Satisfaction',\n",
    "    'Self-Comparison',\n",
    "    'Loneliness Frequency',\n",
    "    'Depression'\n",
    "]"
   ]
  },
  {
   "cell_type": "code",
   "execution_count": 93,
   "id": "01aa3b77-cf08-47fd-ad7f-ca892d3db34b",
   "metadata": {},
   "outputs": [],
   "source": [
    "df = df[column_order]"
   ]
  },
  {
   "cell_type": "code",
   "execution_count": 94,
   "id": "8cd47bca-16bb-4ca1-96a8-14740b9179b0",
   "metadata": {},
   "outputs": [],
   "source": [
    "df.to_csv('../../datasets/survey_data_cleaned.csv', index=False)"
   ]
  },
  {
   "cell_type": "code",
   "execution_count": null,
   "id": "7783fbe3-c7f8-4cd1-bb87-6a877efe71f8",
   "metadata": {},
   "outputs": [],
   "source": []
  }
 ],
 "metadata": {
  "kernelspec": {
   "display_name": "Python 3 (ipykernel)",
   "language": "python",
   "name": "python3"
  },
  "language_info": {
   "codemirror_mode": {
    "name": "ipython",
    "version": 3
   },
   "file_extension": ".py",
   "mimetype": "text/x-python",
   "name": "python",
   "nbconvert_exporter": "python",
   "pygments_lexer": "ipython3",
   "version": "3.12.7"
  }
 },
 "nbformat": 4,
 "nbformat_minor": 5
}
