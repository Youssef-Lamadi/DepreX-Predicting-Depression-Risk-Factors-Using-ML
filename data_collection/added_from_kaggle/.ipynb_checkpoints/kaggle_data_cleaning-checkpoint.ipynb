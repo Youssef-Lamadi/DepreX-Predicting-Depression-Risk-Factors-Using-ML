{
 "cells": [
  {
   "cell_type": "code",
   "execution_count": 1,
   "id": "6dda232a-895d-47bf-8d7f-d281ad912d87",
   "metadata": {},
   "outputs": [],
   "source": [
    "import pandas as pd\n",
    "import numpy as np\n",
    "import matplotlib.pyplot as plt\n",
    "import seaborn as sns\n",
    "\n",
    "pd.set_option('display.max_columns', None)\n"
   ]
  },
  {
   "cell_type": "code",
   "execution_count": 2,
   "id": "0baa0851-6069-425a-81dd-5dfcc0c5e1ff",
   "metadata": {},
   "outputs": [
    {
     "data": {
      "text/html": [
       "<div>\n",
       "<style scoped>\n",
       "    .dataframe tbody tr th:only-of-type {\n",
       "        vertical-align: middle;\n",
       "    }\n",
       "\n",
       "    .dataframe tbody tr th {\n",
       "        vertical-align: top;\n",
       "    }\n",
       "\n",
       "    .dataframe thead th {\n",
       "        text-align: right;\n",
       "    }\n",
       "</style>\n",
       "<table border=\"1\" class=\"dataframe\">\n",
       "  <thead>\n",
       "    <tr style=\"text-align: right;\">\n",
       "      <th></th>\n",
       "      <th>id</th>\n",
       "      <th>Name</th>\n",
       "      <th>Gender</th>\n",
       "      <th>Age</th>\n",
       "      <th>City</th>\n",
       "      <th>Working Professional or Student</th>\n",
       "      <th>Profession</th>\n",
       "      <th>Academic Pressure</th>\n",
       "      <th>Work Pressure</th>\n",
       "      <th>CGPA</th>\n",
       "      <th>Study Satisfaction</th>\n",
       "      <th>Job Satisfaction</th>\n",
       "      <th>Sleep Duration</th>\n",
       "      <th>Dietary Habits</th>\n",
       "      <th>Degree</th>\n",
       "      <th>Have you ever had suicidal thoughts ?</th>\n",
       "      <th>Work/Study Hours</th>\n",
       "      <th>Financial Stress</th>\n",
       "      <th>Family History of Mental Illness</th>\n",
       "      <th>Depression</th>\n",
       "    </tr>\n",
       "  </thead>\n",
       "  <tbody>\n",
       "    <tr>\n",
       "      <th>0</th>\n",
       "      <td>0</td>\n",
       "      <td>Aaradhya</td>\n",
       "      <td>Female</td>\n",
       "      <td>49.0</td>\n",
       "      <td>Ludhiana</td>\n",
       "      <td>Working Professional</td>\n",
       "      <td>Chef</td>\n",
       "      <td>NaN</td>\n",
       "      <td>5.0</td>\n",
       "      <td>NaN</td>\n",
       "      <td>NaN</td>\n",
       "      <td>2.0</td>\n",
       "      <td>More than 8 hours</td>\n",
       "      <td>Healthy</td>\n",
       "      <td>BHM</td>\n",
       "      <td>No</td>\n",
       "      <td>1.0</td>\n",
       "      <td>2.0</td>\n",
       "      <td>No</td>\n",
       "      <td>0</td>\n",
       "    </tr>\n",
       "    <tr>\n",
       "      <th>1</th>\n",
       "      <td>1</td>\n",
       "      <td>Vivan</td>\n",
       "      <td>Male</td>\n",
       "      <td>26.0</td>\n",
       "      <td>Varanasi</td>\n",
       "      <td>Working Professional</td>\n",
       "      <td>Teacher</td>\n",
       "      <td>NaN</td>\n",
       "      <td>4.0</td>\n",
       "      <td>NaN</td>\n",
       "      <td>NaN</td>\n",
       "      <td>3.0</td>\n",
       "      <td>Less than 5 hours</td>\n",
       "      <td>Unhealthy</td>\n",
       "      <td>LLB</td>\n",
       "      <td>Yes</td>\n",
       "      <td>7.0</td>\n",
       "      <td>3.0</td>\n",
       "      <td>No</td>\n",
       "      <td>1</td>\n",
       "    </tr>\n",
       "    <tr>\n",
       "      <th>2</th>\n",
       "      <td>2</td>\n",
       "      <td>Yuvraj</td>\n",
       "      <td>Male</td>\n",
       "      <td>33.0</td>\n",
       "      <td>Visakhapatnam</td>\n",
       "      <td>Student</td>\n",
       "      <td>NaN</td>\n",
       "      <td>5.0</td>\n",
       "      <td>NaN</td>\n",
       "      <td>8.97</td>\n",
       "      <td>2.0</td>\n",
       "      <td>NaN</td>\n",
       "      <td>5-6 hours</td>\n",
       "      <td>Healthy</td>\n",
       "      <td>B.Pharm</td>\n",
       "      <td>Yes</td>\n",
       "      <td>3.0</td>\n",
       "      <td>1.0</td>\n",
       "      <td>No</td>\n",
       "      <td>1</td>\n",
       "    </tr>\n",
       "    <tr>\n",
       "      <th>3</th>\n",
       "      <td>3</td>\n",
       "      <td>Yuvraj</td>\n",
       "      <td>Male</td>\n",
       "      <td>22.0</td>\n",
       "      <td>Mumbai</td>\n",
       "      <td>Working Professional</td>\n",
       "      <td>Teacher</td>\n",
       "      <td>NaN</td>\n",
       "      <td>5.0</td>\n",
       "      <td>NaN</td>\n",
       "      <td>NaN</td>\n",
       "      <td>1.0</td>\n",
       "      <td>Less than 5 hours</td>\n",
       "      <td>Moderate</td>\n",
       "      <td>BBA</td>\n",
       "      <td>Yes</td>\n",
       "      <td>10.0</td>\n",
       "      <td>1.0</td>\n",
       "      <td>Yes</td>\n",
       "      <td>1</td>\n",
       "    </tr>\n",
       "    <tr>\n",
       "      <th>4</th>\n",
       "      <td>4</td>\n",
       "      <td>Rhea</td>\n",
       "      <td>Female</td>\n",
       "      <td>30.0</td>\n",
       "      <td>Kanpur</td>\n",
       "      <td>Working Professional</td>\n",
       "      <td>Business Analyst</td>\n",
       "      <td>NaN</td>\n",
       "      <td>1.0</td>\n",
       "      <td>NaN</td>\n",
       "      <td>NaN</td>\n",
       "      <td>1.0</td>\n",
       "      <td>5-6 hours</td>\n",
       "      <td>Unhealthy</td>\n",
       "      <td>BBA</td>\n",
       "      <td>Yes</td>\n",
       "      <td>9.0</td>\n",
       "      <td>4.0</td>\n",
       "      <td>Yes</td>\n",
       "      <td>0</td>\n",
       "    </tr>\n",
       "  </tbody>\n",
       "</table>\n",
       "</div>"
      ],
      "text/plain": [
       "   id      Name  Gender   Age           City Working Professional or Student  \\\n",
       "0   0  Aaradhya  Female  49.0       Ludhiana            Working Professional   \n",
       "1   1     Vivan    Male  26.0       Varanasi            Working Professional   \n",
       "2   2    Yuvraj    Male  33.0  Visakhapatnam                         Student   \n",
       "3   3    Yuvraj    Male  22.0         Mumbai            Working Professional   \n",
       "4   4      Rhea  Female  30.0         Kanpur            Working Professional   \n",
       "\n",
       "         Profession  Academic Pressure  Work Pressure  CGPA  \\\n",
       "0              Chef                NaN            5.0   NaN   \n",
       "1           Teacher                NaN            4.0   NaN   \n",
       "2               NaN                5.0            NaN  8.97   \n",
       "3           Teacher                NaN            5.0   NaN   \n",
       "4  Business Analyst                NaN            1.0   NaN   \n",
       "\n",
       "   Study Satisfaction  Job Satisfaction     Sleep Duration Dietary Habits  \\\n",
       "0                 NaN               2.0  More than 8 hours        Healthy   \n",
       "1                 NaN               3.0  Less than 5 hours      Unhealthy   \n",
       "2                 2.0               NaN          5-6 hours        Healthy   \n",
       "3                 NaN               1.0  Less than 5 hours       Moderate   \n",
       "4                 NaN               1.0          5-6 hours      Unhealthy   \n",
       "\n",
       "    Degree Have you ever had suicidal thoughts ?  Work/Study Hours  \\\n",
       "0      BHM                                    No               1.0   \n",
       "1      LLB                                   Yes               7.0   \n",
       "2  B.Pharm                                   Yes               3.0   \n",
       "3      BBA                                   Yes              10.0   \n",
       "4      BBA                                   Yes               9.0   \n",
       "\n",
       "   Financial Stress Family History of Mental Illness  Depression  \n",
       "0               2.0                               No           0  \n",
       "1               3.0                               No           1  \n",
       "2               1.0                               No           1  \n",
       "3               1.0                              Yes           1  \n",
       "4               4.0                              Yes           0  "
      ]
     },
     "execution_count": 2,
     "metadata": {},
     "output_type": "execute_result"
    }
   ],
   "source": [
    "df = pd.read_csv('depression_data.csv')\n",
    "df.head()"
   ]
  },
  {
   "cell_type": "code",
   "execution_count": 3,
   "id": "2b3f3155-2901-4e7f-8ebf-2641ada23468",
   "metadata": {},
   "outputs": [
    {
     "data": {
      "text/plain": [
       "(140700, 20)"
      ]
     },
     "execution_count": 3,
     "metadata": {},
     "output_type": "execute_result"
    }
   ],
   "source": [
    "df.shape"
   ]
  },
  {
   "cell_type": "code",
   "execution_count": 4,
   "id": "a9183213-282f-41a7-a2eb-9ec5a859dd0a",
   "metadata": {},
   "outputs": [
    {
     "name": "stdout",
     "output_type": "stream",
     "text": [
      "<class 'pandas.core.frame.DataFrame'>\n",
      "RangeIndex: 140700 entries, 0 to 140699\n",
      "Data columns (total 20 columns):\n",
      " #   Column                                 Non-Null Count   Dtype  \n",
      "---  ------                                 --------------   -----  \n",
      " 0   id                                     140700 non-null  int64  \n",
      " 1   Name                                   140700 non-null  object \n",
      " 2   Gender                                 140700 non-null  object \n",
      " 3   Age                                    140700 non-null  float64\n",
      " 4   City                                   140700 non-null  object \n",
      " 5   Working Professional or Student        140700 non-null  object \n",
      " 6   Profession                             104070 non-null  object \n",
      " 7   Academic Pressure                      27897 non-null   float64\n",
      " 8   Work Pressure                          112782 non-null  float64\n",
      " 9   CGPA                                   27898 non-null   float64\n",
      " 10  Study Satisfaction                     27897 non-null   float64\n",
      " 11  Job Satisfaction                       112790 non-null  float64\n",
      " 12  Sleep Duration                         140700 non-null  object \n",
      " 13  Dietary Habits                         140696 non-null  object \n",
      " 14  Degree                                 140698 non-null  object \n",
      " 15  Have you ever had suicidal thoughts ?  140700 non-null  object \n",
      " 16  Work/Study Hours                       140700 non-null  float64\n",
      " 17  Financial Stress                       140696 non-null  float64\n",
      " 18  Family History of Mental Illness       140700 non-null  object \n",
      " 19  Depression                             140700 non-null  int64  \n",
      "dtypes: float64(8), int64(2), object(10)\n",
      "memory usage: 21.5+ MB\n"
     ]
    }
   ],
   "source": [
    "# getting some info about the data\n",
    "df.info()"
   ]
  },
  {
   "cell_type": "code",
   "execution_count": 5,
   "id": "5a4120f1-7b56-4940-aef5-8d1d4427c204",
   "metadata": {},
   "outputs": [
    {
     "data": {
      "text/html": [
       "<div>\n",
       "<style scoped>\n",
       "    .dataframe tbody tr th:only-of-type {\n",
       "        vertical-align: middle;\n",
       "    }\n",
       "\n",
       "    .dataframe tbody tr th {\n",
       "        vertical-align: top;\n",
       "    }\n",
       "\n",
       "    .dataframe thead th {\n",
       "        text-align: right;\n",
       "    }\n",
       "</style>\n",
       "<table border=\"1\" class=\"dataframe\">\n",
       "  <thead>\n",
       "    <tr style=\"text-align: right;\">\n",
       "      <th></th>\n",
       "      <th>id</th>\n",
       "      <th>Age</th>\n",
       "      <th>Academic Pressure</th>\n",
       "      <th>Work Pressure</th>\n",
       "      <th>CGPA</th>\n",
       "      <th>Study Satisfaction</th>\n",
       "      <th>Job Satisfaction</th>\n",
       "      <th>Work/Study Hours</th>\n",
       "      <th>Financial Stress</th>\n",
       "      <th>Depression</th>\n",
       "    </tr>\n",
       "  </thead>\n",
       "  <tbody>\n",
       "    <tr>\n",
       "      <th>count</th>\n",
       "      <td>140700.000000</td>\n",
       "      <td>140700.000000</td>\n",
       "      <td>27897.000000</td>\n",
       "      <td>112782.000000</td>\n",
       "      <td>27898.000000</td>\n",
       "      <td>27897.000000</td>\n",
       "      <td>112790.000000</td>\n",
       "      <td>140700.000000</td>\n",
       "      <td>140696.000000</td>\n",
       "      <td>140700.000000</td>\n",
       "    </tr>\n",
       "    <tr>\n",
       "      <th>mean</th>\n",
       "      <td>70349.500000</td>\n",
       "      <td>40.388621</td>\n",
       "      <td>3.142273</td>\n",
       "      <td>2.998998</td>\n",
       "      <td>7.658636</td>\n",
       "      <td>2.944940</td>\n",
       "      <td>2.974404</td>\n",
       "      <td>6.252679</td>\n",
       "      <td>2.988983</td>\n",
       "      <td>0.181713</td>\n",
       "    </tr>\n",
       "    <tr>\n",
       "      <th>std</th>\n",
       "      <td>40616.735775</td>\n",
       "      <td>12.384099</td>\n",
       "      <td>1.380457</td>\n",
       "      <td>1.405771</td>\n",
       "      <td>1.464466</td>\n",
       "      <td>1.360197</td>\n",
       "      <td>1.416078</td>\n",
       "      <td>3.853615</td>\n",
       "      <td>1.413633</td>\n",
       "      <td>0.385609</td>\n",
       "    </tr>\n",
       "    <tr>\n",
       "      <th>min</th>\n",
       "      <td>0.000000</td>\n",
       "      <td>18.000000</td>\n",
       "      <td>1.000000</td>\n",
       "      <td>1.000000</td>\n",
       "      <td>5.030000</td>\n",
       "      <td>1.000000</td>\n",
       "      <td>1.000000</td>\n",
       "      <td>0.000000</td>\n",
       "      <td>1.000000</td>\n",
       "      <td>0.000000</td>\n",
       "    </tr>\n",
       "    <tr>\n",
       "      <th>25%</th>\n",
       "      <td>35174.750000</td>\n",
       "      <td>29.000000</td>\n",
       "      <td>2.000000</td>\n",
       "      <td>2.000000</td>\n",
       "      <td>6.290000</td>\n",
       "      <td>2.000000</td>\n",
       "      <td>2.000000</td>\n",
       "      <td>3.000000</td>\n",
       "      <td>2.000000</td>\n",
       "      <td>0.000000</td>\n",
       "    </tr>\n",
       "    <tr>\n",
       "      <th>50%</th>\n",
       "      <td>70349.500000</td>\n",
       "      <td>42.000000</td>\n",
       "      <td>3.000000</td>\n",
       "      <td>3.000000</td>\n",
       "      <td>7.770000</td>\n",
       "      <td>3.000000</td>\n",
       "      <td>3.000000</td>\n",
       "      <td>6.000000</td>\n",
       "      <td>3.000000</td>\n",
       "      <td>0.000000</td>\n",
       "    </tr>\n",
       "    <tr>\n",
       "      <th>75%</th>\n",
       "      <td>105524.250000</td>\n",
       "      <td>51.000000</td>\n",
       "      <td>4.000000</td>\n",
       "      <td>4.000000</td>\n",
       "      <td>8.920000</td>\n",
       "      <td>4.000000</td>\n",
       "      <td>4.000000</td>\n",
       "      <td>10.000000</td>\n",
       "      <td>4.000000</td>\n",
       "      <td>0.000000</td>\n",
       "    </tr>\n",
       "    <tr>\n",
       "      <th>max</th>\n",
       "      <td>140699.000000</td>\n",
       "      <td>60.000000</td>\n",
       "      <td>5.000000</td>\n",
       "      <td>5.000000</td>\n",
       "      <td>10.000000</td>\n",
       "      <td>5.000000</td>\n",
       "      <td>5.000000</td>\n",
       "      <td>12.000000</td>\n",
       "      <td>5.000000</td>\n",
       "      <td>1.000000</td>\n",
       "    </tr>\n",
       "  </tbody>\n",
       "</table>\n",
       "</div>"
      ],
      "text/plain": [
       "                  id            Age  Academic Pressure  Work Pressure  \\\n",
       "count  140700.000000  140700.000000       27897.000000  112782.000000   \n",
       "mean    70349.500000      40.388621           3.142273       2.998998   \n",
       "std     40616.735775      12.384099           1.380457       1.405771   \n",
       "min         0.000000      18.000000           1.000000       1.000000   \n",
       "25%     35174.750000      29.000000           2.000000       2.000000   \n",
       "50%     70349.500000      42.000000           3.000000       3.000000   \n",
       "75%    105524.250000      51.000000           4.000000       4.000000   \n",
       "max    140699.000000      60.000000           5.000000       5.000000   \n",
       "\n",
       "               CGPA  Study Satisfaction  Job Satisfaction  Work/Study Hours  \\\n",
       "count  27898.000000        27897.000000     112790.000000     140700.000000   \n",
       "mean       7.658636            2.944940          2.974404          6.252679   \n",
       "std        1.464466            1.360197          1.416078          3.853615   \n",
       "min        5.030000            1.000000          1.000000          0.000000   \n",
       "25%        6.290000            2.000000          2.000000          3.000000   \n",
       "50%        7.770000            3.000000          3.000000          6.000000   \n",
       "75%        8.920000            4.000000          4.000000         10.000000   \n",
       "max       10.000000            5.000000          5.000000         12.000000   \n",
       "\n",
       "       Financial Stress     Depression  \n",
       "count     140696.000000  140700.000000  \n",
       "mean           2.988983       0.181713  \n",
       "std            1.413633       0.385609  \n",
       "min            1.000000       0.000000  \n",
       "25%            2.000000       0.000000  \n",
       "50%            3.000000       0.000000  \n",
       "75%            4.000000       0.000000  \n",
       "max            5.000000       1.000000  "
      ]
     },
     "execution_count": 5,
     "metadata": {},
     "output_type": "execute_result"
    }
   ],
   "source": [
    "df.describe()"
   ]
  },
  {
   "cell_type": "markdown",
   "id": "352b549a-a501-4775-95cb-f6bfc596c444",
   "metadata": {},
   "source": [
    "#### Rename & Reorder columns"
   ]
  },
  {
   "cell_type": "code",
   "execution_count": 6,
   "id": "ea8e5edc-79ae-40bf-b340-b945deafa00c",
   "metadata": {},
   "outputs": [
    {
     "data": {
      "text/plain": [
       "Index(['id', 'Name', 'Gender', 'Age', 'City',\n",
       "       'Working Professional or Student', 'Profession', 'Academic Pressure',\n",
       "       'Work Pressure', 'CGPA', 'Study Satisfaction', 'Job Satisfaction',\n",
       "       'Sleep Duration', 'Dietary Habits', 'Degree',\n",
       "       'Have you ever had suicidal thoughts ?', 'Work/Study Hours',\n",
       "       'Financial Stress', 'Family History of Mental Illness', 'Depression'],\n",
       "      dtype='object')"
      ]
     },
     "execution_count": 6,
     "metadata": {},
     "output_type": "execute_result"
    }
   ],
   "source": [
    "df.columns"
   ]
  },
  {
   "cell_type": "code",
   "execution_count": 7,
   "id": "fae02baa-c0a1-4047-bdbc-853ca6321eb3",
   "metadata": {},
   "outputs": [],
   "source": [
    "df.rename(columns={\n",
    "    'Have you ever had suicidal thoughts ?': 'Suicidal Thoughts',\n",
    "    'Degree': 'Study Degree',\n",
    "    'Family History of Mental Illness': 'Family Mental Illness History'\n",
    "}, inplace=True)"
   ]
  },
  {
   "cell_type": "code",
   "execution_count": 8,
   "id": "3a021f13-2be3-4584-80ba-4c43d00de678",
   "metadata": {},
   "outputs": [],
   "source": [
    "df = df[['id','Name','Gender', 'Age', 'City' ,                      \n",
    "         'Sleep Duration',                     \n",
    "         'Working Professional or Student',    \n",
    "         'Profession', 'Study Degree', 'CGPA', 'Work/Study Hours', 'Academic Pressure', 'Work Pressure',\n",
    "         'Study Satisfaction', 'Job Satisfaction', 'Financial Stress', \n",
    "         'Dietary Habits', \n",
    "         'Suicidal Thoughts', 'Family Mental Illness History', 'Depression'  \n",
    "         ]]"
   ]
  },
  {
   "cell_type": "code",
   "execution_count": 9,
   "id": "6307c4d9-3ed0-4153-95a8-a8c958dda412",
   "metadata": {},
   "outputs": [
    {
     "data": {
      "text/plain": [
       "Index(['id', 'Name', 'Gender', 'Age', 'City', 'Sleep Duration',\n",
       "       'Working Professional or Student', 'Profession', 'Study Degree', 'CGPA',\n",
       "       'Work/Study Hours', 'Academic Pressure', 'Work Pressure',\n",
       "       'Study Satisfaction', 'Job Satisfaction', 'Financial Stress',\n",
       "       'Dietary Habits', 'Suicidal Thoughts', 'Family Mental Illness History',\n",
       "       'Depression'],\n",
       "      dtype='object')"
      ]
     },
     "execution_count": 9,
     "metadata": {},
     "output_type": "execute_result"
    }
   ],
   "source": [
    "df.columns"
   ]
  },
  {
   "cell_type": "markdown",
   "id": "f588652e-b680-4862-9834-f33fecb6efe1",
   "metadata": {},
   "source": [
    "### Checking for duplicate and missing values "
   ]
  },
  {
   "cell_type": "code",
   "execution_count": 10,
   "id": "b4c33566-bf1c-4adb-aa48-ed0ce12d6427",
   "metadata": {},
   "outputs": [
    {
     "data": {
      "text/plain": [
       "0"
      ]
     },
     "execution_count": 10,
     "metadata": {},
     "output_type": "execute_result"
    }
   ],
   "source": [
    "df.duplicated().sum()"
   ]
  },
  {
   "cell_type": "code",
   "execution_count": 11,
   "id": "f64ee5ed-70c2-447b-9d48-bc918b31e746",
   "metadata": {},
   "outputs": [
    {
     "data": {
      "image/png": "[encoded data removed]",
      "text/plain": [
       "<Figure size 1500x600 with 1 Axes>"
      ]
     },
     "metadata": {},
     "output_type": "display_data"
    }
   ],
   "source": [
    "def plot_missing_values(df, title, color):\n",
    "    missing_ratio = df.isnull().sum() / len(df) * 100\n",
    "    missing_df = pd.DataFrame({'column': missing_ratio.index, 'missing_ratio': missing_ratio.values})\n",
    "    \n",
    "    plt.figure(figsize=(15, 6))\n",
    "    plt.grid(True)\n",
    "    ax = sns.barplot(x='column', y='missing_ratio', data=missing_df, color=color)\n",
    "    \n",
    "    plt.xticks(rotation=45, ha='right', fontsize = 14)\n",
    "    plt.xlabel('')\n",
    "    \n",
    "    plt.title(title, fontsize = 20)\n",
    "    \n",
    "    plt.yticks(range(0, 41, 10), fontsize = 14)\n",
    "    plt.ylabel('Missing Values ratio(%)', fontsize = 12)\n",
    "    \n",
    "    for p in ax.patches:\n",
    "        height = p.get_height()\n",
    "        ax.text(p.get_x() + p.get_width() / 2.,\n",
    "                height + 0.8,\n",
    "                '{:.1f}%'.format(height),\n",
    "                ha=\"center\")\n",
    "    \n",
    "    plt.tight_layout()\n",
    "    plt.show()\n",
    "    \n",
    "\n",
    "plot_missing_values(df, 'Missing Values ratio of Dataset', '#ac1106')"
   ]
  },
  {
   "cell_type": "code",
   "execution_count": 12,
   "id": "ccd50ed2-e1a8-4241-ac09-f51965ca3941",
   "metadata": {},
   "outputs": [
    {
     "data": {
      "text/plain": [
       "id                                      0\n",
       "Name                                    0\n",
       "Gender                                  0\n",
       "Age                                     0\n",
       "City                                    0\n",
       "Sleep Duration                          0\n",
       "Working Professional or Student         0\n",
       "Profession                          36630\n",
       "Study Degree                            2\n",
       "CGPA                               112802\n",
       "Work/Study Hours                        0\n",
       "Academic Pressure                  112803\n",
       "Work Pressure                       27918\n",
       "Study Satisfaction                 112803\n",
       "Job Satisfaction                    27910\n",
       "Financial Stress                        4\n",
       "Dietary Habits                          4\n",
       "Suicidal Thoughts                       0\n",
       "Family Mental Illness History           0\n",
       "Depression                              0\n",
       "dtype: int64"
      ]
     },
     "execution_count": 12,
     "metadata": {},
     "output_type": "execute_result"
    }
   ],
   "source": [
    "df.isnull().sum()"
   ]
  },
  {
   "cell_type": "markdown",
   "id": "750feb4e-4c5d-4ad6-9d2e-139c1b935bdd",
   "metadata": {},
   "source": [
    "After analyzing the dataset, we noticed that students have NaN values in the `Work Pressure` and `Job Satisfaction` columns, while workers have NaN values in the `Academic Pressure` and `Study Satisfaction` columns. To handle the missing values in these columns, a simple approach would be to merge each pair of related columns"
   ]
  },
  {
   "cell_type": "markdown",
   "id": "9f155369-27cf-458b-9c9b-2fd17248261d",
   "metadata": {},
   "source": [
    "##### Merge `Academic Pressure` and `Work Pressure` into `Academic/Work Pressure`"
   ]
  },
  {
   "cell_type": "code",
   "execution_count": 13,
   "id": "3fad6cd2-3960-43b4-84d9-03140694daba",
   "metadata": {},
   "outputs": [],
   "source": [
    "# Fill 'Academic/Work Pressure' with values from 'Academic Pressure' or 'Work Pressure'\n",
    "df['Academic/Work Pressure'] = df['Academic Pressure'].fillna(df['Work Pressure'])\n",
    "\n",
    "# Drop the original 'Academic Pressure' and 'Work Pressure' columns\n",
    "df = df.drop(columns=['Academic Pressure', 'Work Pressure'])\n"
   ]
  },
  {
   "cell_type": "markdown",
   "id": "e68a802d-ec74-448d-99cb-6c861a8eef86",
   "metadata": {},
   "source": [
    "##### Merge `Study Satisfaction` and `Job Satisfaction` into `Job/Study Satisfaction`"
   ]
  },
  {
   "cell_type": "code",
   "execution_count": 14,
   "id": "792d27e3-a9dc-408d-a1e3-9247519b5160",
   "metadata": {},
   "outputs": [],
   "source": [
    "df.loc[:, 'Study/Job Satisfaction'] = df['Study Satisfaction'].fillna(df['Job Satisfaction'])\n",
    "\n",
    "# Drop the original 'Study Satisfaction' and 'Job Satisfaction' columns\n",
    "df = df.drop(columns=['Study Satisfaction', 'Job Satisfaction'])"
   ]
  },
  {
   "cell_type": "code",
   "execution_count": 15,
   "id": "a66e8388-21ee-4174-8b90-223f2fc07b48",
   "metadata": {},
   "outputs": [
    {
     "data": {
      "text/plain": [
       "(140700, 18)"
      ]
     },
     "execution_count": 15,
     "metadata": {},
     "output_type": "execute_result"
    }
   ],
   "source": [
    "df.shape"
   ]
  },
  {
   "cell_type": "code",
   "execution_count": 16,
   "id": "68853b54-4aac-4f90-9c5b-b120cfa8fab0",
   "metadata": {},
   "outputs": [
    {
     "data": {
      "text/plain": [
       "id                                      0\n",
       "Name                                    0\n",
       "Gender                                  0\n",
       "Age                                     0\n",
       "City                                    0\n",
       "Sleep Duration                          0\n",
       "Working Professional or Student         0\n",
       "Profession                          36630\n",
       "Study Degree                            2\n",
       "CGPA                               112802\n",
       "Work/Study Hours                        0\n",
       "Financial Stress                        4\n",
       "Dietary Habits                          4\n",
       "Suicidal Thoughts                       0\n",
       "Family Mental Illness History           0\n",
       "Depression                              0\n",
       "Academic/Work Pressure                 21\n",
       "Study/Job Satisfaction                 15\n",
       "dtype: int64"
      ]
     },
     "execution_count": 16,
     "metadata": {},
     "output_type": "execute_result"
    }
   ],
   "source": [
    "df.isnull().sum()"
   ]
  },
  {
   "cell_type": "markdown",
   "id": "6eea1f40-72ed-4adc-a994-68d132e477c4",
   "metadata": {},
   "source": [
    "##### Since the columns `Academic/Work Pressure`, `Study/Job Satisfaction`, `Study Degree`, `Financial Stress`, `Financial Stress` and `Dietary Habits` have a very small percentage of missing values, dropping the rows with missing values is a reasonable approach. The number of rows removed (73 in total ) this represents 0.06% of the data. Negligible compared to the dataset size (140,700 rows), and this ensures simplicity in data handling without significantly impacting the analysis or model performance.\n"
   ]
  },
  {
   "cell_type": "code",
   "execution_count": 17,
   "id": "fcc21bf7-6006-4aac-9796-518d53d88d96",
   "metadata": {},
   "outputs": [],
   "source": [
    "columns_to_check = ['Academic/Work Pressure', 'Study/Job Satisfaction', 'Dietary Habits', 'Financial Stress', 'Study Degree']\n",
    "df = df.dropna(subset=columns_to_check)"
   ]
  },
  {
   "cell_type": "markdown",
   "id": "34fb6f45-85b9-4e36-ac2e-cf0dc259d65d",
   "metadata": {},
   "source": [
    "##### Dropping the 'CGPA' column because it has a high percentage of missing values (80%) and is irrelevant for many rows, as most of them are workers who don't have a CGPA."
   ]
  },
  {
   "cell_type": "code",
   "execution_count": 19,
   "id": "258e641a-1de2-4cb5-a7eb-836e230ba338",
   "metadata": {},
   "outputs": [
    {
     "ename": "KeyError",
     "evalue": "\"['CGPA'] not found in axis\"",
     "output_type": "error",
     "traceback": [
      "\u001b[1;31m---------------------------------------------------------------------------\u001b[0m",
      "\u001b[1;31mKeyError\u001b[0m                                  Traceback (most recent call last)",
      "Cell \u001b[1;32mIn[19], line 1\u001b[0m\n\u001b[1;32m----> 1\u001b[0m df \u001b[38;5;241m=\u001b[39m \u001b[43mdf\u001b[49m\u001b[38;5;241;43m.\u001b[39;49m\u001b[43mdrop\u001b[49m\u001b[43m(\u001b[49m\u001b[43mcolumns\u001b[49m\u001b[38;5;241;43m=\u001b[39;49m\u001b[43m[\u001b[49m\u001b[38;5;124;43m'\u001b[39;49m\u001b[38;5;124;43mCGPA\u001b[39;49m\u001b[38;5;124;43m'\u001b[39;49m\u001b[43m]\u001b[49m\u001b[43m)\u001b[49m\n",
      "File \u001b[1;32m~\\AppData\\Local\\Programs\\Python\\Python312\\Lib\\site-packages\\pandas\\core\\frame.py:5581\u001b[0m, in \u001b[0;36mDataFrame.drop\u001b[1;34m(self, labels, axis, index, columns, level, inplace, errors)\u001b[0m\n\u001b[0;32m   5433\u001b[0m \u001b[38;5;28;01mdef\u001b[39;00m \u001b[38;5;21mdrop\u001b[39m(\n\u001b[0;32m   5434\u001b[0m     \u001b[38;5;28mself\u001b[39m,\n\u001b[0;32m   5435\u001b[0m     labels: IndexLabel \u001b[38;5;241m|\u001b[39m \u001b[38;5;28;01mNone\u001b[39;00m \u001b[38;5;241m=\u001b[39m \u001b[38;5;28;01mNone\u001b[39;00m,\n\u001b[1;32m   (...)\u001b[0m\n\u001b[0;32m   5442\u001b[0m     errors: IgnoreRaise \u001b[38;5;241m=\u001b[39m \u001b[38;5;124m\"\u001b[39m\u001b[38;5;124mraise\u001b[39m\u001b[38;5;124m\"\u001b[39m,\n\u001b[0;32m   5443\u001b[0m ) \u001b[38;5;241m-\u001b[39m\u001b[38;5;241m>\u001b[39m DataFrame \u001b[38;5;241m|\u001b[39m \u001b[38;5;28;01mNone\u001b[39;00m:\n\u001b[0;32m   5444\u001b[0m \u001b[38;5;250m    \u001b[39m\u001b[38;5;124;03m\"\"\"\u001b[39;00m\n\u001b[0;32m   5445\u001b[0m \u001b[38;5;124;03m    Drop specified labels from rows or columns.\u001b[39;00m\n\u001b[0;32m   5446\u001b[0m \n\u001b[1;32m   (...)\u001b[0m\n\u001b[0;32m   5579\u001b[0m \u001b[38;5;124;03m            weight  1.0     0.8\u001b[39;00m\n\u001b[0;32m   5580\u001b[0m \u001b[38;5;124;03m    \"\"\"\u001b[39;00m\n\u001b[1;32m-> 5581\u001b[0m     \u001b[38;5;28;01mreturn\u001b[39;00m \u001b[38;5;28;43msuper\u001b[39;49m\u001b[43m(\u001b[49m\u001b[43m)\u001b[49m\u001b[38;5;241;43m.\u001b[39;49m\u001b[43mdrop\u001b[49m\u001b[43m(\u001b[49m\n\u001b[0;32m   5582\u001b[0m \u001b[43m        \u001b[49m\u001b[43mlabels\u001b[49m\u001b[38;5;241;43m=\u001b[39;49m\u001b[43mlabels\u001b[49m\u001b[43m,\u001b[49m\n\u001b[0;32m   5583\u001b[0m \u001b[43m        \u001b[49m\u001b[43maxis\u001b[49m\u001b[38;5;241;43m=\u001b[39;49m\u001b[43maxis\u001b[49m\u001b[43m,\u001b[49m\n\u001b[0;32m   5584\u001b[0m \u001b[43m        \u001b[49m\u001b[43mindex\u001b[49m\u001b[38;5;241;43m=\u001b[39;49m\u001b[43mindex\u001b[49m\u001b[43m,\u001b[49m\n\u001b[0;32m   5585\u001b[0m \u001b[43m        \u001b[49m\u001b[43mcolumns\u001b[49m\u001b[38;5;241;43m=\u001b[39;49m\u001b[43mcolumns\u001b[49m\u001b[43m,\u001b[49m\n\u001b[0;32m   5586\u001b[0m \u001b[43m        \u001b[49m\u001b[43mlevel\u001b[49m\u001b[38;5;241;43m=\u001b[39;49m\u001b[43mlevel\u001b[49m\u001b[43m,\u001b[49m\n\u001b[0;32m   5587\u001b[0m \u001b[43m        \u001b[49m\u001b[43minplace\u001b[49m\u001b[38;5;241;43m=\u001b[39;49m\u001b[43minplace\u001b[49m\u001b[43m,\u001b[49m\n\u001b[0;32m   5588\u001b[0m \u001b[43m        \u001b[49m\u001b[43merrors\u001b[49m\u001b[38;5;241;43m=\u001b[39;49m\u001b[43merrors\u001b[49m\u001b[43m,\u001b[49m\n\u001b[0;32m   5589\u001b[0m \u001b[43m    \u001b[49m\u001b[43m)\u001b[49m\n",
      "File \u001b[1;32m~\\AppData\\Local\\Programs\\Python\\Python312\\Lib\\site-packages\\pandas\\core\\generic.py:4788\u001b[0m, in \u001b[0;36mNDFrame.drop\u001b[1;34m(self, labels, axis, index, columns, level, inplace, errors)\u001b[0m\n\u001b[0;32m   4786\u001b[0m \u001b[38;5;28;01mfor\u001b[39;00m axis, labels \u001b[38;5;129;01min\u001b[39;00m axes\u001b[38;5;241m.\u001b[39mitems():\n\u001b[0;32m   4787\u001b[0m     \u001b[38;5;28;01mif\u001b[39;00m labels \u001b[38;5;129;01mis\u001b[39;00m \u001b[38;5;129;01mnot\u001b[39;00m \u001b[38;5;28;01mNone\u001b[39;00m:\n\u001b[1;32m-> 4788\u001b[0m         obj \u001b[38;5;241m=\u001b[39m \u001b[43mobj\u001b[49m\u001b[38;5;241;43m.\u001b[39;49m\u001b[43m_drop_axis\u001b[49m\u001b[43m(\u001b[49m\u001b[43mlabels\u001b[49m\u001b[43m,\u001b[49m\u001b[43m \u001b[49m\u001b[43maxis\u001b[49m\u001b[43m,\u001b[49m\u001b[43m \u001b[49m\u001b[43mlevel\u001b[49m\u001b[38;5;241;43m=\u001b[39;49m\u001b[43mlevel\u001b[49m\u001b[43m,\u001b[49m\u001b[43m \u001b[49m\u001b[43merrors\u001b[49m\u001b[38;5;241;43m=\u001b[39;49m\u001b[43merrors\u001b[49m\u001b[43m)\u001b[49m\n\u001b[0;32m   4790\u001b[0m \u001b[38;5;28;01mif\u001b[39;00m inplace:\n\u001b[0;32m   4791\u001b[0m     \u001b[38;5;28mself\u001b[39m\u001b[38;5;241m.\u001b[39m_update_inplace(obj)\n",
      "File \u001b[1;32m~\\AppData\\Local\\Programs\\Python\\Python312\\Lib\\site-packages\\pandas\\core\\generic.py:4830\u001b[0m, in \u001b[0;36mNDFrame._drop_axis\u001b[1;34m(self, labels, axis, level, errors, only_slice)\u001b[0m\n\u001b[0;32m   4828\u001b[0m         new_axis \u001b[38;5;241m=\u001b[39m axis\u001b[38;5;241m.\u001b[39mdrop(labels, level\u001b[38;5;241m=\u001b[39mlevel, errors\u001b[38;5;241m=\u001b[39merrors)\n\u001b[0;32m   4829\u001b[0m     \u001b[38;5;28;01melse\u001b[39;00m:\n\u001b[1;32m-> 4830\u001b[0m         new_axis \u001b[38;5;241m=\u001b[39m \u001b[43maxis\u001b[49m\u001b[38;5;241;43m.\u001b[39;49m\u001b[43mdrop\u001b[49m\u001b[43m(\u001b[49m\u001b[43mlabels\u001b[49m\u001b[43m,\u001b[49m\u001b[43m \u001b[49m\u001b[43merrors\u001b[49m\u001b[38;5;241;43m=\u001b[39;49m\u001b[43merrors\u001b[49m\u001b[43m)\u001b[49m\n\u001b[0;32m   4831\u001b[0m     indexer \u001b[38;5;241m=\u001b[39m axis\u001b[38;5;241m.\u001b[39mget_indexer(new_axis)\n\u001b[0;32m   4833\u001b[0m \u001b[38;5;66;03m# Case for non-unique axis\u001b[39;00m\n\u001b[0;32m   4834\u001b[0m \u001b[38;5;28;01melse\u001b[39;00m:\n",
      "File \u001b[1;32m~\\AppData\\Local\\Programs\\Python\\Python312\\Lib\\site-packages\\pandas\\core\\indexes\\base.py:7070\u001b[0m, in \u001b[0;36mIndex.drop\u001b[1;34m(self, labels, errors)\u001b[0m\n\u001b[0;32m   7068\u001b[0m \u001b[38;5;28;01mif\u001b[39;00m mask\u001b[38;5;241m.\u001b[39many():\n\u001b[0;32m   7069\u001b[0m     \u001b[38;5;28;01mif\u001b[39;00m errors \u001b[38;5;241m!=\u001b[39m \u001b[38;5;124m\"\u001b[39m\u001b[38;5;124mignore\u001b[39m\u001b[38;5;124m\"\u001b[39m:\n\u001b[1;32m-> 7070\u001b[0m         \u001b[38;5;28;01mraise\u001b[39;00m \u001b[38;5;167;01mKeyError\u001b[39;00m(\u001b[38;5;124mf\u001b[39m\u001b[38;5;124m\"\u001b[39m\u001b[38;5;132;01m{\u001b[39;00mlabels[mask]\u001b[38;5;241m.\u001b[39mtolist()\u001b[38;5;132;01m}\u001b[39;00m\u001b[38;5;124m not found in axis\u001b[39m\u001b[38;5;124m\"\u001b[39m)\n\u001b[0;32m   7071\u001b[0m     indexer \u001b[38;5;241m=\u001b[39m indexer[\u001b[38;5;241m~\u001b[39mmask]\n\u001b[0;32m   7072\u001b[0m \u001b[38;5;28;01mreturn\u001b[39;00m \u001b[38;5;28mself\u001b[39m\u001b[38;5;241m.\u001b[39mdelete(indexer)\n",
      "\u001b[1;31mKeyError\u001b[0m: \"['CGPA'] not found in axis\""
     ]
    }
   ],
   "source": [
    "df = df.drop(columns=['CGPA'])"
   ]
  },
  {
   "cell_type": "markdown",
   "id": "4d569fb3-2df5-4e8e-9c4b-9b3de55b9683",
   "metadata": {},
   "source": [
    "#### `Profession` Feature"
   ]
  },
  {
   "cell_type": "code",
   "execution_count": 20,
   "id": "511428ca-e828-496d-a04d-dec501d9c54d",
   "metadata": {},
   "outputs": [
    {
     "data": {
      "text/plain": [
       "array(['Chef', 'Teacher', nan, 'Business Analyst', 'Finanancial Analyst',\n",
       "       'Chemist', 'Electrician', 'Software Engineer', 'Data Scientist',\n",
       "       'Plumber', 'Marketing Manager', 'Accountant', 'Entrepreneur',\n",
       "       'HR Manager', 'UX/UI Designer', 'Content Writer',\n",
       "       'Educational Consultant', 'Civil Engineer', 'Manager',\n",
       "       'Pharmacist', 'Financial Analyst', 'Architect',\n",
       "       'Mechanical Engineer', 'Customer Support', 'Consultant', 'Judge',\n",
       "       'Researcher', 'Pilot', 'Graphic Designer', 'Travel Consultant',\n",
       "       'Digital Marketer', 'Lawyer', 'Research Analyst',\n",
       "       'Sales Executive', 'Doctor', 'Unemployed', 'Investment Banker',\n",
       "       'Family Consultant', 'B.Com', 'BE', 'Student', 'Yogesh', 'Dev',\n",
       "       'MBA', 'LLM', 'BCA', 'Academic', 'Profession', 'FamilyVirar',\n",
       "       'City Manager', 'BBA', 'Medical Doctor', 'Working Professional',\n",
       "       'MBBS', 'Patna', 'Unveil', 'B.Ed', 'Nagpur', 'Moderate', 'M.Ed',\n",
       "       'Analyst', 'Pranav', 'Visakhapatnam', 'PhD', 'Yuvraj'],\n",
       "      dtype=object)"
      ]
     },
     "execution_count": 20,
     "metadata": {},
     "output_type": "execute_result"
    }
   ],
   "source": [
    "df['Profession'].unique()"
   ]
  },
  {
   "cell_type": "code",
   "execution_count": 21,
   "id": "6f3628cd-6a0d-4ecb-8433-91b442d3cb90",
   "metadata": {},
   "outputs": [
    {
     "data": {
      "text/plain": [
       "Profession\n",
       "Teacher           24906\n",
       "Content Writer     7814\n",
       "Architect          4370\n",
       "Consultant         4228\n",
       "HR Manager         4022\n",
       "                  ...  \n",
       "BBA                   1\n",
       "City Manager          1\n",
       "FamilyVirar           1\n",
       "B.Com                 1\n",
       "Yuvraj                1\n",
       "Name: count, Length: 64, dtype: int64"
      ]
     },
     "execution_count": 21,
     "metadata": {},
     "output_type": "execute_result"
    }
   ],
   "source": [
    "df['Profession'].value_counts()"
   ]
  },
  {
   "cell_type": "code",
   "execution_count": 22,
   "id": "421fd408-54d9-46c0-9f54-59d6f24ec635",
   "metadata": {},
   "outputs": [],
   "source": [
    "# Fill missing 'Profession' values based on the 'Working Professional or Student' column\n",
    "# if Working Professional or Student = Student and Profession = NaN then set Profession = Student\n",
    "df.loc[df['Profession'].isna() & (df['Working Professional or Student'] == 'Student'), 'Profession'] = 'Student'"
   ]
  },
  {
   "cell_type": "code",
   "execution_count": 27,
   "id": "7dcb2b2c-6f1c-4f17-996d-9ae8c0a8b539",
   "metadata": {},
   "outputs": [
    {
     "data": {
      "text/plain": [
       "14616"
      ]
     },
     "execution_count": 27,
     "metadata": {},
     "output_type": "execute_result"
    }
   ],
   "source": [
    "# Show the number of missing values in the 'Profession' column\n",
    "missing_values = df['Profession'].isnull().sum()\n",
    "missing_values"
   ]
  },
  {
   "cell_type": "code",
   "execution_count": 26,
   "id": "bb3e51bf-da21-4a64-b81c-55fc4d5d2d80",
   "metadata": {},
   "outputs": [],
   "source": [
    "# replace the missing values of Profession with Unknown\n",
    "df.loc[:, 'Profession'] = df['Profession'].fillna('Unknown')"
   ]
  },
  {
   "cell_type": "code",
   "execution_count": 28,
   "id": "ecb827df-0fe2-40f7-aecd-e04218294f65",
   "metadata": {},
   "outputs": [],
   "source": [
    "# correct the gramatical errors\n",
    "df.loc[:, 'Profession'] = df['Profession'].replace({\n",
    "    'Finanancial Analyst': 'Financial Analyst',\n",
    "    'Medical Doctor': 'Doctor',\n",
    "    'Dev': 'Developer'\n",
    "})\n",
    "\n",
    "# Replace invalid values of 'Profession' feature with 'Unknown'\n",
    "invalid_values = ['B.Com', 'BE', 'Yogesh', 'MBA', 'LLM', 'BCA', 'Academic', \n",
    "                  'Profession', 'FamilyVirar', 'City Manager', 'BBA', \n",
    "                  'Working Professional', 'MBBS', 'Patna', 'Unveil', 'B.Ed', 'Nagpur', \n",
    "                  'Moderate', 'M.Ed', 'Analyst', 'Pranav', 'Visakhapatnam', 'PhD', 'Yuvraj', \n",
    "                  'Unhealthy', '3M', 'ME', 'B.Pharm', '24th', 'Manvi', 'Samar', 'Surat', \n",
    "                  'MD', 'Name', 'MCA', 'Simran', 'M.Tech', 'Surgeon', 'No', 'City Consultant', \n",
    "                  'M.Pharm']\n",
    "\n",
    "df.loc[:, 'Profession'] = df['Profession'].replace(invalid_values, 'Unknown')"
   ]
  },
  {
   "cell_type": "code",
   "execution_count": 29,
   "id": "cf7232b7-2538-4a49-9fc7-92613f2cf647",
   "metadata": {},
   "outputs": [
    {
     "data": {
      "text/plain": [
       "Profession\n",
       "Student                   27860\n",
       "Teacher                   24906\n",
       "Unknown                    8778\n",
       "Content Writer             7814\n",
       "Architect                  4370\n",
       "Consultant                 4228\n",
       "HR Manager                 4022\n",
       "Pharmacist                 3893\n",
       "Doctor                     3256\n",
       "Business Analyst           3161\n",
       "Entrepreneur               2968\n",
       "Chemist                    2967\n",
       "Financial Analyst          2903\n",
       "Chef                       2862\n",
       "Educational Consultant     2852\n",
       "Data Scientist             2390\n",
       "Researcher                 2328\n",
       "Lawyer                     2212\n",
       "Customer Support           2055\n",
       "Marketing Manager          1976\n",
       "Pilot                      1913\n",
       "Travel Consultant          1860\n",
       "Plumber                    1748\n",
       "Sales Executive            1739\n",
       "Manager                    1737\n",
       "Judge                      1712\n",
       "Electrician                1582\n",
       "Software Engineer          1510\n",
       "Civil Engineer             1469\n",
       "UX/UI Designer             1452\n",
       "Digital Marketer           1372\n",
       "Accountant                 1339\n",
       "Mechanical Engineer        1176\n",
       "Graphic Designer           1163\n",
       "Research Analyst            690\n",
       "Investment Banker           393\n",
       "Unemployed                    3\n",
       "Family Consultant             1\n",
       "Developer                     1\n",
       "Name: count, dtype: int64"
      ]
     },
     "execution_count": 29,
     "metadata": {},
     "output_type": "execute_result"
    }
   ],
   "source": [
    "df['Profession'].value_counts()"
   ]
  },
  {
   "cell_type": "code",
   "execution_count": 30,
   "id": "6e27f5c1-050d-41dc-b03a-f799b1ed3715",
   "metadata": {},
   "outputs": [],
   "source": [
    "# Removing rows where the 'Profession' column has one of the rare values to avoid the complexity when applying the one-hot-encoding\n",
    "# deleting them is a reasonable approach. These rare categories are unlikely to contribute meaningful insights to the model and could even introduce noise.\n",
    "rare_professions = ['Unemployed', 'Family Consultant', 'Developer']\n",
    "df = df[~df['Profession'].isin(rare_professions)]"
   ]
  },
  {
   "cell_type": "markdown",
   "id": "18104be2-be96-4128-ade9-040ee9d0f408",
   "metadata": {},
   "source": [
    "#### `Sleep Duration` Feature"
   ]
  },
  {
   "cell_type": "code",
   "execution_count": 31,
   "id": "757cec0a-7a6e-48b2-9ea9-79106a245ea9",
   "metadata": {},
   "outputs": [
    {
     "data": {
      "text/plain": [
       "array(['More than 8 hours', 'Less than 5 hours', '5-6 hours', '7-8 hours',\n",
       "       'Sleep_Duration', '1-2 hours', '6-8 hours', '4-6 hours',\n",
       "       '6-7 hours', '10-11 hours', '8-9 hours', '40-45 hours',\n",
       "       '9-11 hours', '2-3 hours', '3-4 hours', 'Moderate', '55-66 hours',\n",
       "       '4-5 hours', '9-6 hours', '1-3 hours', 'Indore', '45', '1-6 hours',\n",
       "       '35-36 hours', '8 hours', 'No', '10-6 hours', 'than 5 hours',\n",
       "       '49 hours', 'Unhealthy', 'Work_Study_Hours', '3-6 hours',\n",
       "       '45-48 hours', '9-5', 'Pune', '9-5 hours'], dtype=object)"
      ]
     },
     "execution_count": 31,
     "metadata": {},
     "output_type": "execute_result"
    }
   ],
   "source": [
    "df['Sleep Duration'].unique()"
   ]
  },
  {
   "cell_type": "code",
   "execution_count": 32,
   "id": "755b4807-e801-4cc0-8428-b07571ade9f7",
   "metadata": {},
   "outputs": [
    {
     "data": {
      "text/plain": [
       "Sleep Duration\n",
       "Less than 5 hours    38768\n",
       "7-8 hours            36962\n",
       "More than 8 hours    32718\n",
       "5-6 hours            32129\n",
       "3-4 hours               12\n",
       "6-7 hours                8\n",
       "4-5 hours                7\n",
       "2-3 hours                5\n",
       "4-6 hours                5\n",
       "6-8 hours                4\n",
       "1-6 hours                4\n",
       "No                       4\n",
       "9-11 hours               2\n",
       "10-11 hours              2\n",
       "Sleep_Duration           2\n",
       "Unhealthy                2\n",
       "45                       2\n",
       "8-9 hours                2\n",
       "10-6 hours               1\n",
       "9-5                      1\n",
       "45-48 hours              1\n",
       "3-6 hours                1\n",
       "Work_Study_Hours         1\n",
       "49 hours                 1\n",
       "than 5 hours             1\n",
       "Pune                     1\n",
       "9-6 hours                1\n",
       "8 hours                  1\n",
       "35-36 hours              1\n",
       "Indore                   1\n",
       "1-3 hours                1\n",
       "55-66 hours              1\n",
       "Moderate                 1\n",
       "40-45 hours              1\n",
       "1-2 hours                1\n",
       "9-5 hours                1\n",
       "Name: count, dtype: int64"
      ]
     },
     "execution_count": 32,
     "metadata": {},
     "output_type": "execute_result"
    }
   ],
   "source": [
    "df['Sleep Duration'].value_counts()"
   ]
  },
  {
   "cell_type": "code",
   "execution_count": 37,
   "id": "d76b2cb0-52cd-4323-b73a-55e7ea7dc6e5",
   "metadata": {},
   "outputs": [
    {
     "data": {
      "text/plain": [
       "Sleep Duration\n",
       "Less than 5 hours    38795\n",
       "7-8 hours            36968\n",
       "More than 8 hours    32725\n",
       "5-6 hours            32151\n",
       "Name: count, dtype: int64"
      ]
     },
     "execution_count": 37,
     "metadata": {},
     "output_type": "execute_result"
    }
   ],
   "source": [
    "### 40-45 hours, 50-75 hours, 20-21 hours, 60-65 hours, 49 hours, 45-48 hours, 35-36 hours, 55-66 hours.\n",
    "### Those are incorrect data, this might be data weekly hours, not daily hours\n",
    "\n",
    "def categorize_weekly_sleep(duration):\n",
    "    numbers = [int(n) for n in duration.split()[0].split('-')]\n",
    "    avg_weekly_hours = sum(numbers) / len(numbers)  # Calculate average if range\n",
    "    avg_daily_hours = avg_weekly_hours / 7\n",
    "    if avg_daily_hours < 5:\n",
    "        return 'Less than 5 hours'\n",
    "    elif 5 <= avg_daily_hours < 7:\n",
    "        return '5-6 hours'\n",
    "    elif 7 <= avg_daily_hours <= 8:\n",
    "        return '7-8 hours'\n",
    "    else:\n",
    "        return 'More than 8 hours'\n",
    "weekly_hours = ['40-45 hours', '50-75 hours', '20-21 hours', '60-65 hours','49 hours', '45-48 hours', '35-36 hours', '55-66 hours']\n",
    "\n",
    "def correct_sleep(data):\n",
    "    ### Category Less than 5 hours\n",
    "    data.loc[:, 'Sleep Duration'] = data['Sleep Duration'].str.replace('1-2 hours|3-4 hours|4-5 hours|2-3 hours|1-3 hours','Less than 5 hours',regex=True)\n",
    "    data.loc[:, 'Sleep Duration'] = data['Sleep Duration'].replace('than 5 hours','Less than 5 hours')\n",
    "    ### Category Less than 5-6 hours\n",
    "    data.loc[:, 'Sleep Duration'] = data['Sleep Duration'].str.replace('6-7 hours|4-6 hours|1-6 hours','5-6 hours',regex=True)\n",
    "    data.loc[:, 'Sleep Duration'] = data['Sleep Duration'].replace('6 hours','5-6 hours')\n",
    "    ### Category Less than 7-8 hours\n",
    "    data.loc[:, 'Sleep Duration'] = data['Sleep Duration'].replace('8 hours', '7-8 hours')\n",
    "    data.loc[:, 'Sleep Duration'] = data['Sleep Duration'].str.replace('6-8 hours','7-8 hours',regex=True)\n",
    "    ### Category More than 8 hours\n",
    "    data.loc[:, 'Sleep Duration'] = data['Sleep Duration'].str.replace('8-89 hours|9-11 hours|8-9 hours|10-11 hours|9-10 hours','More than 8 hours',regex=True)\n",
    "    ## Cateogory Weekly Hours into Daily Hours    \n",
    "    df.loc[df['Sleep Duration'].isin(weekly_hours), 'Sleep Duration'] = df.loc[df['Sleep Duration'].isin(weekly_hours), 'Sleep Duration'].apply(categorize_weekly_sleep)\n",
    "\n",
    "    return data\n",
    "correct_sleep(df)\n",
    "df['Sleep Duration'].value_counts()"
   ]
  },
  {
   "cell_type": "code",
   "execution_count": 38,
   "id": "dd83fc0f-bd31-4411-a7a1-e5d9e27a7d6a",
   "metadata": {},
   "outputs": [],
   "source": [
    "# Removing rows with noisy or invalid values in the 'Sleep Duration' column\n",
    "# These rows contain ambiguous, irrelevant, or inconsistent data (e.g., 'No', 'Moderate', 'Work_Study_Hours'),\n",
    "# which do not represent valid sleep durations and could negatively impact analysis or modeling accuracy.\n",
    "\n",
    "# List of valid sleep duration categories\n",
    "valid_categories = ['Less than 5 hours', '5-6 hours', '7-8 hours', 'More than 8 hours']\n",
    "\n",
    "# Filter rows to keep only those with valid sleep duration values\n",
    "df = df[df['Sleep Duration'].isin(valid_categories)]"
   ]
  },
  {
   "cell_type": "code",
   "execution_count": 39,
   "id": "ba891fb6-6b99-4709-a7f5-69095aae0c7d",
   "metadata": {},
   "outputs": [
    {
     "data": {
      "text/plain": [
       "Sleep Duration\n",
       "Less than 5 hours    38795\n",
       "7-8 hours            36968\n",
       "More than 8 hours    32725\n",
       "5-6 hours            32151\n",
       "Name: count, dtype: int64"
      ]
     },
     "execution_count": 39,
     "metadata": {},
     "output_type": "execute_result"
    }
   ],
   "source": [
    "df['Sleep Duration'].value_counts()"
   ]
  },
  {
   "cell_type": "markdown",
   "id": "8ff00981-ba1d-4b3d-b0e3-1dfbdd3b01bd",
   "metadata": {},
   "source": [
    "#### `Study Degree` Feature"
   ]
  },
  {
   "cell_type": "code",
   "execution_count": 40,
   "id": "b7e77d34-7ba7-47c6-89dd-5ab24e12ad56",
   "metadata": {},
   "outputs": [
    {
     "data": {
      "text/plain": [
       "array(['BHM', 'LLB', 'B.Pharm', 'BBA', 'MCA', 'MD', 'BSc', 'ME', 'B.Arch',\n",
       "       'BCA', 'BE', 'MA', 'B.Ed', 'B.Com', 'MBA', 'M.Com', 'MHM', 'BA',\n",
       "       'Class 12', 'M.Tech', 'PhD', 'M.Ed', 'MSc', 'B.Tech', 'LLM',\n",
       "       'MBBS', 'M.Pharm', 'UX/UI Designer', 'MPA', 'BH', 'Nalini', 'BEd',\n",
       "       'B.Sc', 'Veda', 'Bhopal', 'S.Tech', 'Degree', '20', 'Class 11',\n",
       "       'H_Pharm', 'M', 'P.Com', 'BPharm', 'Business Analyst', 'M.Arch',\n",
       "       'LL.Com', 'Data Scientist', 'MPharm', 'L.Ed', 'P.Pharm', 'Kalyan',\n",
       "       'Unite', 'BArch', 'HR Manager', 'Badhya', 'S.Pharm', 'LLBA',\n",
       "       'Vrinda', 'M. Business Analyst', 'Bhavesh', '0', 'LLCom', '29',\n",
       "       'MTech', 'Vivaan', 'BPA', 'Plumber', '5.61', 'Brit', 'B.03',\n",
       "       'Ritik', '5.56', 'MEd', 'B', 'B BA', '7.06', 'B.B.Arch', 'ACA',\n",
       "       'Brithika', 'CGPA', '24', 'M_Tech', 'Pihu', 'BB', 'Jhanvi',\n",
       "       'LLTech', 'Aarav', 'Entrepreneur', '8.56', 'LHM', 'Lata', 'S.Arch',\n",
       "       'Marsh', 'HCA', '5.88', 'B.Student', 'LL B.Ed', 'M.S', 'Navya',\n",
       "       'Mahika', 'K.Ed', 'B.3.79', 'Mthanya', 'Working Professional',\n",
       "       'Esha', 'LLS', 'LLEd', 'E.Tech', 'Doctor', 'N.Pharm', 'LCA',\n",
       "       'B B.Com', 'RCA', 'Mihir', 'Advait'], dtype=object)"
      ]
     },
     "execution_count": 40,
     "metadata": {},
     "output_type": "execute_result"
    }
   ],
   "source": [
    "df['Study Degree'].unique()"
   ]
  },
  {
   "cell_type": "code",
   "execution_count": 44,
   "id": "23b96614-2931-47c1-babf-901ccd31c6a6",
   "metadata": {},
   "outputs": [
    {
     "data": {
      "text/plain": [
       "Study Degree\n",
       "Class 12    14707\n",
       "B.Ed        11689\n",
       "B.Arch       8740\n",
       "B.Com        8111\n",
       "B.Pharm      5854\n",
       "            ...  \n",
       "Vivaan          1\n",
       "MTech           1\n",
       "29              1\n",
       "LLCom           1\n",
       "Advait          1\n",
       "Name: count, Length: 115, dtype: int64"
      ]
     },
     "execution_count": 44,
     "metadata": {},
     "output_type": "execute_result"
    }
   ],
   "source": [
    "df['Study Degree'].value_counts()"
   ]
  },
  {
   "cell_type": "code",
   "execution_count": 45,
   "id": "d085a091-aa38-40f8-808a-1f02750ee528",
   "metadata": {},
   "outputs": [],
   "source": [
    "valid_degrees = [\n",
    "    'BHM', 'LLB', 'B.Pharm', 'BBA', 'MCA', 'MD', 'BSc', 'ME', 'B.Arch',\n",
    "    'BCA', 'BE', 'MA', 'B.Ed', 'B.Com', 'MBA', 'M.Com', 'MHM', 'BA',\n",
    "    'Class 12', 'M.Tech', 'PhD', 'M.Ed', 'MSc', 'B.Tech', 'LLM', 'MBBS', 'M.Pharm'\n",
    "]\n",
    "\n",
    "# Replace invalid degrees with \"Unknown\"\n",
    "df['Study Degree'] = df['Study Degree'].apply(lambda x: x if x in valid_degrees else 'Unknown')"
   ]
  },
  {
   "cell_type": "code",
   "execution_count": 46,
   "id": "1727900e-157b-4da1-8e53-8f43d1ffbfb4",
   "metadata": {},
   "outputs": [
    {
     "data": {
      "text/plain": [
       "Study Degree\n",
       "Class 12    14707\n",
       "B.Ed        11689\n",
       "B.Arch       8740\n",
       "B.Com        8111\n",
       "B.Pharm      5854\n",
       "BCA          5738\n",
       "M.Ed         5667\n",
       "MCA          5230\n",
       "BBA          5029\n",
       "BSc          5025\n",
       "MSc          4877\n",
       "LLM          4647\n",
       "M.Pharm      4536\n",
       "M.Tech       4475\n",
       "B.Tech       4423\n",
       "LLB          4346\n",
       "BHM          4304\n",
       "MBA          3817\n",
       "BA           3749\n",
       "ME           3630\n",
       "MD           3382\n",
       "MHM          3286\n",
       "PhD          3103\n",
       "BE           3103\n",
       "M.Com        3091\n",
       "MBBS         3080\n",
       "MA           2886\n",
       "Unknown       114\n",
       "Name: count, dtype: int64"
      ]
     },
     "execution_count": 46,
     "metadata": {},
     "output_type": "execute_result"
    }
   ],
   "source": [
    "df['Study Degree'].value_counts()"
   ]
  },
  {
   "cell_type": "markdown",
   "id": "42d1cfbd-265d-491d-a4eb-491acddd6619",
   "metadata": {},
   "source": [
    "\n",
    "    'BHM': 'Bachelor of Hotel Management',\n",
    "    'LLB': 'Bachelor of Laws',\n",
    "    'B.Pharm': 'Bachelor of Pharmacy',\n",
    "    'BBA': 'Bachelor of Business Administration',\n",
    "    'MCA': 'Master of Computer Applications',\n",
    "    'MD': 'Doctor of Medicine',\n",
    "    'BSc': 'Bachelor of Science',\n",
    "    'ME': 'Master of Engineering',\n",
    "    'B.Arch': 'Bachelor of Architecture',\n",
    "    'BCA': 'Bachelor of Computer Applications',\n",
    "    'BE': 'Bachelor of Engineering',\n",
    "    'MA': 'Master of Arts',\n",
    "    'B.Ed': 'Bachelor of Education',\n",
    "    'B.Com': 'Bachelor of Commerce',\n",
    "    'MBA': 'Master of Business Administration',\n",
    "    'M.Com': 'Master of Commerce',\n",
    "    'MHM': 'Master of Hotel Management',\n",
    "    'BA': 'Bachelor of Arts',\n",
    "    'Class 12': 'High School',\n",
    "    'M.Tech': 'Master of Technology',\n",
    "    'PhD': 'Doctor of Philosophy',\n",
    "    'M.Ed': 'Master of Education',\n",
    "    'MSc': 'Master of Science',\n",
    "    'B.Tech': 'Bachelor of Technology',\n",
    "    'LLM': 'Master of Laws',\n",
    "    'MBBS': 'Bachelor of Medicine, Bachelor of Surgery',\n",
    "    'M.Pharm': 'Master of Pharmacy',\n",
    "\n"
   ]
  },
  {
   "cell_type": "markdown",
   "id": "fa90cda5-46de-4ced-9575-7f6ff2289886",
   "metadata": {},
   "source": [
    "#### `Dietary Habits` Feature"
   ]
  },
  {
   "cell_type": "code",
   "execution_count": 47,
   "id": "cc297f2b-c7e7-4f70-9d0c-a93c0db5aa28",
   "metadata": {},
   "outputs": [
    {
     "data": {
      "text/plain": [
       "array(['Healthy', 'Unhealthy', 'Moderate', 'Yes', 'Pratham', 'BSc',\n",
       "       'Gender', '3', 'More Healthy', 'Less than Healthy', 'Mihir', '1.0',\n",
       "       'Hormonal', 'Electrician', 'No Healthy', 'Less Healthy', 'M.Tech',\n",
       "       'Vegas', 'No', 'Male', 'Indoor', 'Class 12', '2'], dtype=object)"
      ]
     },
     "execution_count": 47,
     "metadata": {},
     "output_type": "execute_result"
    }
   ],
   "source": [
    "df['Dietary Habits'].unique()"
   ]
  },
  {
   "cell_type": "code",
   "execution_count": 48,
   "id": "b5679b42-98cf-4049-9918-620125cb3bb2",
   "metadata": {},
   "outputs": [
    {
     "data": {
      "text/plain": [
       "Dietary Habits\n",
       "Moderate             49682\n",
       "Unhealthy            46207\n",
       "Healthy              44727\n",
       "Yes                      2\n",
       "No                       2\n",
       "More Healthy             2\n",
       "No Healthy               1\n",
       "Class 12                 1\n",
       "Indoor                   1\n",
       "Male                     1\n",
       "Vegas                    1\n",
       "M.Tech                   1\n",
       "Less Healthy             1\n",
       "1.0                      1\n",
       "Electrician              1\n",
       "Hormonal                 1\n",
       "Mihir                    1\n",
       "Less than Healthy        1\n",
       "3                        1\n",
       "Gender                   1\n",
       "BSc                      1\n",
       "Pratham                  1\n",
       "2                        1\n",
       "Name: count, dtype: int64"
      ]
     },
     "execution_count": 48,
     "metadata": {},
     "output_type": "execute_result"
    }
   ],
   "source": [
    "df['Dietary Habits'].value_counts()"
   ]
  },
  {
   "cell_type": "code",
   "execution_count": 49,
   "id": "8909bc37-118b-4ce6-9892-8801f2e9ab54",
   "metadata": {},
   "outputs": [
    {
     "data": {
      "text/plain": [
       "Dietary Habits\n",
       "Moderate             49682\n",
       "Unhealthy            46211\n",
       "Healthy              44731\n",
       "Electrician              1\n",
       "Class 12                 1\n",
       "Indoor                   1\n",
       "Male                     1\n",
       "Vegas                    1\n",
       "M.Tech                   1\n",
       "Unhealthy Healthy        1\n",
       "Hormonal                 1\n",
       "1.0                      1\n",
       "Mihir                    1\n",
       "3                        1\n",
       "Gender                   1\n",
       "BSc                      1\n",
       "Pratham                  1\n",
       "2                        1\n",
       "Name: count, dtype: int64"
      ]
     },
     "execution_count": 49,
     "metadata": {},
     "output_type": "execute_result"
    }
   ],
   "source": [
    "def correct_habit(data):\n",
    "    ### Category Unhealthy\n",
    "    data['Dietary Habits'] = data['Dietary Habits'].str.replace('No|Less Healthy|Less than Healthy|No Healthy|5 Unhealthy','Unhealthy',regex=True)\n",
    "    ### Category Healthy\n",
    "    data['Dietary Habits'] = data['Dietary Habits'].str.replace('Yes|More Healthy|5 Healthy','Healthy',regex=True)\n",
    "    return data\n",
    "correct_habit(df)\n",
    "df['Dietary Habits'].value_counts()"
   ]
  },
  {
   "cell_type": "code",
   "execution_count": 50,
   "id": "07109886-a375-4825-adc5-d7d112a7460e",
   "metadata": {},
   "outputs": [
    {
     "data": {
      "text/plain": [
       "Dietary Habits\n",
       "Moderate     49682\n",
       "Unhealthy    46211\n",
       "Healthy      44731\n",
       "Name: count, dtype: int64"
      ]
     },
     "execution_count": 50,
     "metadata": {},
     "output_type": "execute_result"
    }
   ],
   "source": [
    "# Deleting rows with noisy or irrelevant values in the 'Dietary Habits' column.\n",
    "# These values (e.g., 'Male', '1.0', 'Indoor', 'Mihir') do not represent valid dietary habits,\n",
    "# and keeping them would introduce noise and potential inaccuracies into the analysis or modeling process.\n",
    "# Since these rows are a small proportion of the data, removing them will not significantly impact the dataset.\n",
    "\n",
    "# Define valid dietary habit categories\n",
    "valid_habits = ['Moderate', 'Healthy', 'Unhealthy']\n",
    "# Filter rows to keep only those with valid dietary habits\n",
    "df = df[df['Dietary Habits'].isin(valid_habits)]\n",
    "df['Dietary Habits'].value_counts()"
   ]
  },
  {
   "cell_type": "code",
   "execution_count": 52,
   "id": "9c083490-954d-485a-883c-3e6aa379a5a4",
   "metadata": {},
   "outputs": [
    {
     "data": {
      "text/plain": [
       "array(['BHM', 'LLB', 'B.Pharm', 'BBA', 'MCA', 'MD', 'BSc', 'ME', 'B.Arch',\n",
       "       'BCA', 'BE', 'MA', 'B.Ed', 'B.Com', 'MBA', 'M.Com', 'MHM', 'BA',\n",
       "       'Class 12', 'M.Tech', 'PhD', 'M.Ed', 'MSc', 'B.Tech', 'LLM',\n",
       "       'MBBS', 'M.Pharm', 'Unknown'], dtype=object)"
      ]
     },
     "execution_count": 52,
     "metadata": {},
     "output_type": "execute_result"
    }
   ],
   "source": [
    "df['Study Degree'].unique()"
   ]
  },
  {
   "cell_type": "code",
   "execution_count": 53,
   "id": "e1838891-4aa7-46ac-9998-6150fe0c36a0",
   "metadata": {},
   "outputs": [],
   "source": [
    "# Dropping 'Name', 'City', and 'id' columns:\n",
    "# - 'Name': Does not contribute to predicting depression and has high cardinality.\n",
    "# - 'City': While it may have a small influence, its high cardinality adds complexity without significant predictive power.\n",
    "# - 'id': Serves as a unique identifier and does not provide meaningful information for the model.\n",
    "df = df.drop(columns=['Name', 'City', 'id'])\n"
   ]
  },
  {
   "cell_type": "code",
   "execution_count": 55,
   "id": "2f5754c4-c984-4b6f-8e92-41dec0738dc0",
   "metadata": {},
   "outputs": [
    {
     "data": {
      "text/html": [
       "<div>\n",
       "<style scoped>\n",
       "    .dataframe tbody tr th:only-of-type {\n",
       "        vertical-align: middle;\n",
       "    }\n",
       "\n",
       "    .dataframe tbody tr th {\n",
       "        vertical-align: top;\n",
       "    }\n",
       "\n",
       "    .dataframe thead th {\n",
       "        text-align: right;\n",
       "    }\n",
       "</style>\n",
       "<table border=\"1\" class=\"dataframe\">\n",
       "  <thead>\n",
       "    <tr style=\"text-align: right;\">\n",
       "      <th></th>\n",
       "      <th>Gender</th>\n",
       "      <th>Age</th>\n",
       "      <th>Sleep Duration</th>\n",
       "      <th>Working Professional or Student</th>\n",
       "      <th>Profession</th>\n",
       "      <th>Study Degree</th>\n",
       "      <th>Work/Study Hours</th>\n",
       "      <th>Financial Stress</th>\n",
       "      <th>Dietary Habits</th>\n",
       "      <th>Suicidal Thoughts</th>\n",
       "      <th>Family Mental Illness History</th>\n",
       "      <th>Depression</th>\n",
       "      <th>Academic/Work Pressure</th>\n",
       "      <th>Study/Job Satisfaction</th>\n",
       "    </tr>\n",
       "  </thead>\n",
       "  <tbody>\n",
       "    <tr>\n",
       "      <th>0</th>\n",
       "      <td>Female</td>\n",
       "      <td>49.0</td>\n",
       "      <td>More than 8 hours</td>\n",
       "      <td>Working Professional</td>\n",
       "      <td>Chef</td>\n",
       "      <td>BHM</td>\n",
       "      <td>1.0</td>\n",
       "      <td>2.0</td>\n",
       "      <td>Healthy</td>\n",
       "      <td>No</td>\n",
       "      <td>No</td>\n",
       "      <td>0</td>\n",
       "      <td>5.0</td>\n",
       "      <td>2.0</td>\n",
       "    </tr>\n",
       "    <tr>\n",
       "      <th>1</th>\n",
       "      <td>Male</td>\n",
       "      <td>26.0</td>\n",
       "      <td>Less than 5 hours</td>\n",
       "      <td>Working Professional</td>\n",
       "      <td>Teacher</td>\n",
       "      <td>LLB</td>\n",
       "      <td>7.0</td>\n",
       "      <td>3.0</td>\n",
       "      <td>Unhealthy</td>\n",
       "      <td>Yes</td>\n",
       "      <td>No</td>\n",
       "      <td>1</td>\n",
       "      <td>4.0</td>\n",
       "      <td>3.0</td>\n",
       "    </tr>\n",
       "    <tr>\n",
       "      <th>2</th>\n",
       "      <td>Male</td>\n",
       "      <td>33.0</td>\n",
       "      <td>5-6 hours</td>\n",
       "      <td>Student</td>\n",
       "      <td>Student</td>\n",
       "      <td>B.Pharm</td>\n",
       "      <td>3.0</td>\n",
       "      <td>1.0</td>\n",
       "      <td>Healthy</td>\n",
       "      <td>Yes</td>\n",
       "      <td>No</td>\n",
       "      <td>1</td>\n",
       "      <td>5.0</td>\n",
       "      <td>2.0</td>\n",
       "    </tr>\n",
       "    <tr>\n",
       "      <th>3</th>\n",
       "      <td>Male</td>\n",
       "      <td>22.0</td>\n",
       "      <td>Less than 5 hours</td>\n",
       "      <td>Working Professional</td>\n",
       "      <td>Teacher</td>\n",
       "      <td>BBA</td>\n",
       "      <td>10.0</td>\n",
       "      <td>1.0</td>\n",
       "      <td>Moderate</td>\n",
       "      <td>Yes</td>\n",
       "      <td>Yes</td>\n",
       "      <td>1</td>\n",
       "      <td>5.0</td>\n",
       "      <td>1.0</td>\n",
       "    </tr>\n",
       "    <tr>\n",
       "      <th>4</th>\n",
       "      <td>Female</td>\n",
       "      <td>30.0</td>\n",
       "      <td>5-6 hours</td>\n",
       "      <td>Working Professional</td>\n",
       "      <td>Business Analyst</td>\n",
       "      <td>BBA</td>\n",
       "      <td>9.0</td>\n",
       "      <td>4.0</td>\n",
       "      <td>Unhealthy</td>\n",
       "      <td>Yes</td>\n",
       "      <td>Yes</td>\n",
       "      <td>0</td>\n",
       "      <td>1.0</td>\n",
       "      <td>1.0</td>\n",
       "    </tr>\n",
       "  </tbody>\n",
       "</table>\n",
       "</div>"
      ],
      "text/plain": [
       "   Gender   Age     Sleep Duration Working Professional or Student  \\\n",
       "0  Female  49.0  More than 8 hours            Working Professional   \n",
       "1    Male  26.0  Less than 5 hours            Working Professional   \n",
       "2    Male  33.0          5-6 hours                         Student   \n",
       "3    Male  22.0  Less than 5 hours            Working Professional   \n",
       "4  Female  30.0          5-6 hours            Working Professional   \n",
       "\n",
       "         Profession Study Degree  Work/Study Hours  Financial Stress  \\\n",
       "0              Chef          BHM               1.0               2.0   \n",
       "1           Teacher          LLB               7.0               3.0   \n",
       "2           Student      B.Pharm               3.0               1.0   \n",
       "3           Teacher          BBA              10.0               1.0   \n",
       "4  Business Analyst          BBA               9.0               4.0   \n",
       "\n",
       "  Dietary Habits Suicidal Thoughts Family Mental Illness History  Depression  \\\n",
       "0        Healthy                No                            No           0   \n",
       "1      Unhealthy               Yes                            No           1   \n",
       "2        Healthy               Yes                            No           1   \n",
       "3       Moderate               Yes                           Yes           1   \n",
       "4      Unhealthy               Yes                           Yes           0   \n",
       "\n",
       "   Academic/Work Pressure  Study/Job Satisfaction  \n",
       "0                     5.0                     2.0  \n",
       "1                     4.0                     3.0  \n",
       "2                     5.0                     2.0  \n",
       "3                     5.0                     1.0  \n",
       "4                     1.0                     1.0  "
      ]
     },
     "execution_count": 55,
     "metadata": {},
     "output_type": "execute_result"
    }
   ],
   "source": [
    "df.head()"
   ]
  },
  {
   "cell_type": "code",
   "execution_count": 56,
   "id": "ed7266fb-949c-4949-a7fb-525d2737a920",
   "metadata": {},
   "outputs": [],
   "source": [
    "df.to_csv('../../datasets/kaggle_data_cleaned.csv', index=False)"
   ]
  },
  {
   "cell_type": "code",
   "execution_count": null,
   "id": "0bbb3298-1f68-4715-a8b8-8363ef76d052",
   "metadata": {},
   "outputs": [],
   "source": []
  }
 ],
 "metadata": {
  "kernelspec": {
   "display_name": "Python 3 (ipykernel)",
   "language": "python",
   "name": "python3"
  },
  "language_info": {
   "codemirror_mode": {
    "name": "ipython",
    "version": 3
   },
   "file_extension": ".py",
   "mimetype": "text/x-python",
   "name": "python",
   "nbconvert_exporter": "python",
   "pygments_lexer": "ipython3",
   "version": "3.12.7"
  }
 },
 "nbformat": 4,
 "nbformat_minor": 5
}
